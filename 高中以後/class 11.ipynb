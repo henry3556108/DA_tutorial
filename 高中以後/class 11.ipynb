{
 "cells": [
  {
   "cell_type": "markdown",
   "id": "2bb5ee78",
   "metadata": {},
   "source": [
    "## 區域變數 全域變數\n",
    "\n",
    "- 在Python中理解全局變量（global variables）和局部變量（local variables）是非常重要的。我們可以用一個簡單的例子來解釋這兩者的區別。\n",
    "\n",
    "### 全局變量\n",
    "全局變量是在函數外部定義的變量。一旦你定義了一個全局變量，任何函數都可以讀取或修改這個變量的值。這意味著全局變量在你的整個程式碼中都是可見的和可用的。\n",
    "\n",
    "### 局部變量\n",
    "局部變量是在函數內部定義的變量。它們只能在被定義的那個函數內部使用。一旦函數調用結束，這些局部變量就會被銷毀，其他函數無法訪問這些局部變量。\n",
    "\n",
    "\n"
   ]
  },
  {
   "cell_type": "code",
   "execution_count": 1,
   "id": "522847e2",
   "metadata": {},
   "outputs": [
    {
     "name": "stdout",
     "output_type": "stream",
     "text": [
      "區域變數 local_variable = 5\n",
      "全域變數 global_variable = 10\n"
     ]
    },
    {
     "ename": "NameError",
     "evalue": "name 'local_variable' is not defined",
     "output_type": "error",
     "traceback": [
      "\u001b[0;31m---------------------------------------------------------------------------\u001b[0m",
      "\u001b[0;31mNameError\u001b[0m                                 Traceback (most recent call last)",
      "Cell \u001b[0;32mIn[1], line 22\u001b[0m\n\u001b[1;32m     20\u001b[0m example_function()\n\u001b[1;32m     21\u001b[0m \u001b[38;5;66;03m# example_function2()\u001b[39;00m\n\u001b[0;32m---> 22\u001b[0m \u001b[38;5;28mprint\u001b[39m(\u001b[38;5;124m\"\u001b[39m\u001b[38;5;124mexample_func 的區域變數 local_variable =\u001b[39m\u001b[38;5;124m\"\u001b[39m, \u001b[43mlocal_variable\u001b[49m) \n\u001b[1;32m     23\u001b[0m \u001b[38;5;66;03m# print(\"全域變數 global_variable =\", global_variable)\u001b[39;00m\n",
      "\u001b[0;31mNameError\u001b[0m: name 'local_variable' is not defined"
     ]
    }
   ],
   "source": [
    "# 全域變數（Global Variable）\n",
    "global_variable = 10\n",
    "\n",
    "def example_function():\n",
    "    # 區域變數（Local Variable）\n",
    "    local_variable = 5\n",
    "    print(\"區域變數 local_variable =\", local_variable)\n",
    "    print(\"全域變數 global_variable =\", global_variable)\n",
    "\n",
    "def example_function2():\n",
    "    # 區域變數（Local Variable）\n",
    "    local_variable2 = 20\n",
    "    print(\"區域變數 local_variable2 =\", local_variable2)\n",
    "    print(\"區域變數 local_variable =\", local_variable)\n",
    "    print(\"全域變數 global_variable =\", global_variable)\n",
    "\n",
    "    \n",
    "# 呼叫函式\n",
    "\n",
    "example_function()\n",
    "# example_function2()\n",
    "print(\"example_func 的區域變數 local_variable =\", local_variable) \n",
    "# print(\"全域變數 global_variable =\", global_variable)\n"
   ]
  },
  {
   "cell_type": "code",
   "execution_count": null,
   "id": "f10eec22",
   "metadata": {},
   "outputs": [],
   "source": [
    "def example_function():\n",
    "    # 宣告一個局部變數 local_variable\n",
    "    local_variable = 5\n",
    "    print(\"函式內部 local_variable =\", local_variable)\n",
    "\n",
    "    # 使用 global 關鍵字將局部變數轉換為全域變數\n",
    "    global global_variable\n",
    "    global_variable = 10\n",
    "\n",
    "# 呼叫函式\n",
    "example_function()\n",
    "\n",
    "# 在函式外部訪問全域變數\n",
    "print(\"函式外部 global_variable =\", global_variable)"
   ]
  },
  {
   "cell_type": "markdown",
   "id": "db6cde14",
   "metadata": {},
   "source": [
    "## Scope Chain\n",
    "- 當談到範圍鏈（Scope Chain）時，我們指的是在程式碼中變數的尋找和訪問方式。每當在程式中訪問變數時，程式將從當前作用域開始尋找該變數，如果在當前作用域找不到，則會繼續向外層作用域尋找，直至找到該變數或達到全域作用域。以下是更詳細的範圍鏈解釋：\n",
    "\n",
    "1. 區域作用域： 在函數內部聲明的變數，稱為區域變數。當在函數內部訪問變數時，程式首先尋找區域作用域，如果找到了變數，則使用該變數的值。\n",
    "2. 外層作用域： 如果在區域作用域找不到變數，程式將繼續向外層作用域尋找該變數。外層作用域可能是包含該函數的其他函數的作用域，或者是全域作用域。\n",
    "3. 全域作用域： 如果在外層作用域中找不到變數，程式將繼續向上尋找，最終達到全域作用域。全域作用域是程式中最外層的作用域，其中聲明的變數在程式的任何地方都可以訪問。\n",
    "- 範圍鏈的重點在於變數的尋找是從內向外進行的，並且在每個作用域中只查找一次。一旦找到變數，程式將停止尋找並使用該變數的值。如果變數在任何作用域中都找不到，則程式將引發名稱錯誤（NameError）。"
   ]
  },
  {
   "cell_type": "code",
   "execution_count": 12,
   "id": "ee1eab50",
   "metadata": {},
   "outputs": [
    {
     "ename": "NameError",
     "evalue": "name 'inner_function' is not defined",
     "output_type": "error",
     "traceback": [
      "\u001b[0;31m---------------------------------------------------------------------------\u001b[0m",
      "\u001b[0;31mNameError\u001b[0m                                 Traceback (most recent call last)",
      "Cell \u001b[0;32mIn[12], line 12\u001b[0m\n\u001b[1;32m      9\u001b[0m     inner_function()\n\u001b[1;32m     11\u001b[0m \u001b[38;5;66;03m# outer_function()\u001b[39;00m\n\u001b[0;32m---> 12\u001b[0m \u001b[43minner_function\u001b[49m()\n",
      "\u001b[0;31mNameError\u001b[0m: name 'inner_function' is not defined"
     ]
    }
   ],
   "source": [
    "x = 10  # 全域變數\n",
    "def outer_function():\n",
    "    y = 20  # 外層作用域\n",
    "    def inner_function():\n",
    "        z = 30  # 區域作用域\n",
    "        print(x)  # 在 inner_function 中找到全域變數 x\n",
    "        print(y)  # 在 inner_function 中找到外層變數 y\n",
    "        print(z)  # 在 inner_function 中找到區域變數 z\n",
    "    inner_function()\n",
    "\n",
    "outer_function()\n",
    "# inner_function()"
   ]
  },
  {
   "cell_type": "markdown",
   "id": "a81a04b4",
   "metadata": {},
   "source": [
    "## 遞迴\n",
    "- 遞迴是計算機科學和數學領域中的一個重要概念，它描述了一種在問題的解決過程中反覆使用相同類型的操作或函數的方法。簡而言之，遞迴是一個函數或過程調用自身的過程，通過將問題分解為更小或相似的子問題，來實現更複雜問題的解決。\n",
    "\n",
    "- 遞迴的主要特點包括以下幾點：\n",
    "    1. 自我調用： 遞迴函數或過程在其內部代碼中包含對自身的調用，這樣它們可以反覆執行相同的操作。\n",
    "    2. 基本情況： 遞迴算法需要一個或多個基本情況，這些情況下，遞迴停止並返回結果，而不再進行更多的遞迴調用。這是遞迴的終止條件。\n",
    "    3. 問題分解： 遞迴算法通常將複雜的問題分解為更小或相似的子問題，然後通過處理這些子問題的解來構建整個問題的解。\n",
    "\n",
    "- 遞迴在解決許多問題上非常強大，特別是在那些具有自相似結構的問題上，如數學中的費波那契數列、樹狀結構的遍歷、排序算法（如快速排序和合併排序）等。然而，遞迴也需要謹慎使用，因為不當的使用可能導致無限遞迴或效率低下的問題。合理運用遞迴可以使代碼更簡潔、易讀，並且有助於解決某些複雜的計算問題。"
   ]
  },
  {
   "attachments": {
    "image.png": {
     "image/png": "[encoded data removed]"
    }
   },
   "cell_type": "markdown",
   "id": "b0490c97",
   "metadata": {},
   "source": [
    "## 階乘計算\n",
    "- 以下提供遞迴關係式\n",
    "![image.png](attachment:image.png)"
   ]
  },
  {
   "cell_type": "code",
   "execution_count": 1,
   "id": "6c3875a4",
   "metadata": {},
   "outputs": [],
   "source": [
    "def factorial(n):\n",
    "    if n == 0 or n == 1:\n",
    "        return 1\n",
    "    else:\n",
    "        return n * factorial(n-1)\n",
    "    "
   ]
  },
  {
   "cell_type": "markdown",
   "id": "394fc75f",
   "metadata": {},
   "source": [
    "## 練習\n",
    "- 費氏數列\n",
    "- 以下提供費氏數列的遞迴關係式\n",
    "\n",
    "$ \\text{fibonacci}(n) =\n",
    "\\begin{cases}\n",
    "0, & \\text{if } n = 0 \\text{ (第0個費波那契數為0)} \\\\\n",
    "1, & \\text{if } n = 1 \\text{ (第1個費波那契數為1)} \\\\\n",
    "\\text{fibonacci}(n-1) + \\text{fibonacci}(n-2), & \\text{if } n > 1 \\text{ (遞迴情況)}\n",
    "\\end{cases} $\n"
   ]
  },
  {
   "cell_type": "code",
   "execution_count": null,
   "id": "f844c032",
   "metadata": {},
   "outputs": [],
   "source": [
    "def a(b):\n",
    "    if b == 0:\n",
    "        return 0\n",
    "    if b == 1:\n",
    "        return 1\n",
    "    else:\n",
    "        return a(b - 1) + a(b - 2)\n",
    "\n",
    "a(7)"
   ]
  },
  {
   "cell_type": "markdown",
   "id": "49b5e531",
   "metadata": {},
   "source": [
    "## 練習\n",
    "- 次方遞迴關係式\n",
    "\n",
    "$ \\text{power}(x, n) =\n",
    "\\begin{cases}\n",
    "1, & \\text{if } n = 0 \\text{ (任何數的0次方都等於1)} \\\\\n",
    "x \\cdot \\text{power}(x, n-1), & \\text{if } n > 0 \\text{ (遞迴情況)}\n",
    "\\end{cases} $\n",
    "\n"
   ]
  },
  {
   "cell_type": "code",
   "execution_count": null,
   "id": "bec7e3ac",
   "metadata": {},
   "outputs": [],
   "source": [
    "def power(x, n):\n",
    "    \n",
    "    # 會告訴我 x 的 n 次方是多少\n",
    "    pass"
   ]
  },
  {
   "cell_type": "markdown",
   "id": "9147453a",
   "metadata": {},
   "source": [
    "## 練習\n",
    "- 二元搜尋\n",
    "\n",
    "$ \\text{binary_search}(arr, \\text{target}, \\text{left}, \\text{right}) =\n",
    "\\begin{cases}\n",
    "-1, & \\text{if } \\text{left} > \\text{right} \\text{ (element not found)} \\\\\n",
    "\\text{mid}, & \\text{if } \\text{arr[mid]} = \\text{target} \\text{ (element found)} \\\\\n",
    "\\text{binary_search}(arr, \\text{target}, \\text{mid}+1, \\text{right}), & \\text{if } \\text{arr[mid]} < \\text{target} \\text{ (search in the right half)} \\\\\n",
    "\\text{binary_search}(arr, \\text{target}, \\text{left}, \\text{mid}-1), & \\text{if } \\text{arr[mid]} > \\text{target} \\text{ (search in the left half)}\n",
    "\\end{cases} $\n",
    "\n",
    "\n"
   ]
  },
  {
   "cell_type": "code",
   "execution_count": 4,
   "id": "115590d7",
   "metadata": {},
   "outputs": [
    {
     "data": {
      "text/plain": [
       "6"
      ]
     },
     "execution_count": 4,
     "metadata": {},
     "output_type": "execute_result"
    }
   ],
   "source": [
    "def binary_search(arr, target, left, right):\n",
    "    # left, right 是位置的意思\n",
    "    if left > right:\n",
    "        return -1\n",
    "    mid = (left + right) // 2\n",
    "    if arr[mid] == target:\n",
    "        return mid\n",
    "    elif arr[mid] > target:\n",
    "        return binary_search(arr, target, left, mid - 1)\n",
    "    else:\n",
    "        return binary_search(arr, target, mid + 1, right)\n",
    "    \n",
    "data = [1,3,4,5,6,7,9,13] # 對一個已排序的序列，尋找一元素是否存在其中\n",
    "binary_search(data, 9, 0, len(data) - 1)"
   ]
  },
  {
   "cell_type": "markdown",
   "id": "56aea4bc",
   "metadata": {},
   "source": [
    "## 參考文章\n",
    "[遞迴1](https://medium.com/appworks-school/%E9%80%B2%E5%85%A5%E9%81%9E%E8%BF%B4-recursion-%E7%9A%84%E4%B8%96%E7%95%8C-%E4%B8%80-59fa4b394ef6)\n",
    "\n",
    "[遞迴2](https://medium.com/appworks-school/%E9%80%B2%E5%85%A5%E9%81%9E%E8%BF%B4-recursion-%E7%9A%84%E4%B8%96%E7%95%8C-%E4%BA%8C-58196a45a945)\n",
    "\n",
    "[遞迴3](https://medium.com/appworks-school/%E9%80%B2%E5%85%A5%E9%81%9E%E8%BF%B4-recursion-%E7%9A%84%E4%B8%96%E7%95%8C-%E4%B8%89-d2fd70b5b171)\n",
    "\n",
    "[遞迴4](https://medium.com/appworks-school/%E9%80%B2%E5%85%A5%E9%81%9E%E8%BF%B4-recursion-%E7%9A%84%E4%B8%96%E7%95%8C-%E5%9B%9B-27d86b9fbd1d)\n"
   ]
  },
  {
   "cell_type": "markdown",
   "id": "c2a2c19d",
   "metadata": {},
   "source": [
    "## gcd (最大公因數)\n",
    "- 用遞迴的方式球最大公因數，你可以去查看看他的遞迴式怎麼寫\n",
    "```\n",
    "範例輸入: 9 15\n",
    "範例輸出: 3\n",
    "```"
   ]
  },
  {
   "cell_type": "code",
   "execution_count": null,
   "id": "15f2eba7",
   "metadata": {},
   "outputs": [],
   "source": []
  },
  {
   "cell_type": "markdown",
   "id": "1ab81787",
   "metadata": {},
   "source": [
    "## 求兩數最小公倍數\n",
    "```\n",
    "範例輸入: 9 15\n",
    "範例輸出: 45\n",
    "```"
   ]
  },
  {
   "cell_type": "code",
   "execution_count": null,
   "id": "961da57c",
   "metadata": {},
   "outputs": [],
   "source": []
  },
  {
   "cell_type": "markdown",
   "id": "7e334bbb",
   "metadata": {},
   "source": [
    "## 河內塔\n",
    "- 有三根柱子A、B和C，初始時在柱子A上有n個不同大小的盤子，從上到下按照遞減的順序排列。運用河內塔規則，將所有盤子從柱子A移動到柱子C，同時可以使用柱子B作為輔助。請編寫一個遞迴函數來解決這個問題。\n",
    "\n",
    "```\n",
    "範例輸入: 5\n",
    "範例輸出: 31\n",
    "```\n"
   ]
  },
  {
   "cell_type": "code",
   "execution_count": null,
   "id": "809f4cc3",
   "metadata": {},
   "outputs": [],
   "source": []
  },
  {
   "cell_type": "markdown",
   "id": "a2e6cd57",
   "metadata": {},
   "source": [
    "## 排列 （Permutation）\n",
    "```\n",
    "範例輸入：1, 2, 3\n",
    "範例輸出：[1, 2, 3], [1, 3, 2], [2, 1, 3], [2, 3, 1], [3, 1, 2], [3, 2, 1]\n",
    "```"
   ]
  },
  {
   "cell_type": "code",
   "execution_count": null,
   "id": "5a528670",
   "metadata": {},
   "outputs": [],
   "source": []
  }
 ],
 "metadata": {
  "kernelspec": {
   "display_name": "Python 3 (ipykernel)",
   "language": "python",
   "name": "python3"
  },
  "language_info": {
   "codemirror_mode": {
    "name": "ipython",
    "version": 3
   },
   "file_extension": ".py",
   "mimetype": "text/x-python",
   "name": "python",
   "nbconvert_exporter": "python",
   "pygments_lexer": "ipython3",
   "version": "3.10.11"
  }
 },
 "nbformat": 4,
 "nbformat_minor": 5
}
