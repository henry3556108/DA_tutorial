{
 "cells": [
  {
   "cell_type": "markdown",
   "id": "a48928c3",
   "metadata": {},
   "source": [
    "## 什麼是 class？\n",
    "\n",
    "- class 類別是一種用來創建自定義資料類型和函數的工具。它可以用來將具有相似特徵和行為的事物組織在一起。\n",
    "\n",
    "\n",
    "## class 的三大特性\n",
    "- 封裝（Encapsulation）：將資料和方法隱藏在類別中，只對外部提供有限的接口來訪問。\n",
    "- 繼承（Inheritance）：子類別可以繼承父類別的屬性和方法。\n",
    "- 多型（Polymorphism）：子類別可以覆蓋父類別的方法，"
   ]
  },
  {
   "cell_type": "markdown",
   "id": "16c2ee45",
   "metadata": {},
   "source": [
    "### 繼承\n",
    "- 繼承是物件導向程式設計的三大特性之一，它允許一個類別（子類別）繼承另一個類別（父類別）的屬性和方法。繼承可以幫助我們提高程式碼的可重用性和可擴展性。在 Python 中，繼承使用 () 來表示。\n",
    "1. 定義一個 Animal 類別，具有 name 和 age 屬性，以及 speak() 方法。\n",
    "2. 定義一個 Dog 類別繼承自 Animal，並新增一個 bark() 方法。\n",
    "3. 定義一個 Cat 類別繼承自 Animal，並新增一個 meow() 方法。\n",
    "4. 建立一個 dog 和 cat 物件，並呼叫其 speak() 和其他方法。"
   ]
  },
  {
   "cell_type": "code",
   "execution_count": 26,
   "id": "1ca34fa0",
   "metadata": {},
   "outputs": [
    {
     "name": "stdout",
     "output_type": "stream",
     "text": [
      "吃吃吃\n",
      "喵喵喵\n"
     ]
    }
   ],
   "source": [
    "class Animal(): # 類別\n",
    "    def __init__(self, weight):\n",
    "        self.age = 0\n",
    "        self.weight = weight\n",
    "    def eat(self):\n",
    "        print(\"吃吃吃\")\n",
    "        \n",
    "class Dog(Animal):\n",
    "    def __init__(self, weight, color):\n",
    "        self.age = 0\n",
    "        self.weight = weight\n",
    "        self.color = color\n",
    "    def bark(self):\n",
    "        print(\"汪汪汪\")\n",
    "    \n",
    "class Cat(Animal):\n",
    "    def __init__(self, weight, color):\n",
    "        self.age = 0\n",
    "        self.weight = weight\n",
    "        self.color = color\n",
    "    def meow(self):\n",
    "        print(\"喵喵喵\")\n",
    "\n",
    "        \n",
    "# animal1 = Animal(30) # 物件\n",
    "# animal1.eat()\n",
    "dog1 = Dog(30, \"black\")\n",
    "dog1.eat()\n",
    "cat1 = Cat(20, \"orange\")\n",
    "# cat1.meow()"
   ]
  },
  {
   "cell_type": "code",
   "execution_count": 28,
   "id": "8d53b825",
   "metadata": {},
   "outputs": [
    {
     "name": "stdout",
     "output_type": "stream",
     "text": [
      "造成 100 傷害\n"
     ]
    }
   ],
   "source": [
    "class weapon():\n",
    "    def __init__(self, strength):\n",
    "        self.strength = strength\n",
    "    def attack(self):\n",
    "        print(f\"造成 {self.strength} 傷害\")\n",
    "class Sword(weapon):\n",
    "    pass\n",
    "\n",
    "sword1 = Sword(100)\n",
    "sword1.attack()"
   ]
  },
  {
   "cell_type": "markdown",
   "id": "78b9355d",
   "metadata": {},
   "source": [
    "## RPG\n",
    "- 冒險者的屬性\n",
    "    - 攻擊力 生命力 魔力\n",
    "- 冒險者的方法\n",
    "    - attack()，當呼叫到 attack 這個方法時他會列印出 \"造成X點傷害\"\n",
    "    - wounded(N: int)，當呼叫到這個方法時他會列印出 \"受到 X 點傷害\" 並且扣除 N 點生命力，當生命力低於 0 則列印死亡\n",
    "    - show_info()，當呼叫到該 method 則會列印出當前的 攻擊力，生命力跟魔力(列印時請列印的漂亮一點)\n",
    "    \n",
    "把這個 adventurer 這個 class 做完後並且創建一個實例 (instance)"
   ]
  },
  {
   "cell_type": "code",
   "execution_count": null,
   "id": "0b246be6",
   "metadata": {},
   "outputs": [],
   "source": [
    "class adventurer:\n",
    "    xxxxx"
   ]
  },
  {
   "cell_type": "markdown",
   "id": "3bab952b",
   "metadata": {},
   "source": [
    "- 戰士要繼承冒險者的特性，就如同轉職一樣\n",
    "- 戰士的屬性\n",
    "    - 攻擊力 生命力 魔力\n",
    "- 戰士的方法\n",
    "    - attack()，當呼叫到 attack 這個方法時他會列印出 \"造成X點傷害\"\n",
    "    - big_punch()，當呼叫到該 method 時 他會列印出 \"重擊 造成X點傷害\" 此時的 X 為當前攻擊力的 2倍\n",
    "    \n",
    "把這個 Warrior 這個 class 做完後並且創建一個實例 (instance)"
   ]
  },
  {
   "cell_type": "code",
   "execution_count": null,
   "id": "9d02ee0f",
   "metadata": {},
   "outputs": [],
   "source": [
    "class Warrior(xxx):\n",
    "    xxxx"
   ]
  },
  {
   "cell_type": "markdown",
   "id": "9244b158",
   "metadata": {},
   "source": [
    "- 魔法師要繼承冒險者的特性，就如同轉職一樣\n",
    "- 魔法師的屬性\n",
    "    - 攻擊力 魔法攻擊力 生命力 魔力\n",
    "- 魔法師的方法\n",
    "    - attack()，當呼叫到 attack 這個方法時他會列印出 \"造成X點傷害\"\n",
    "    - mgical_attack()，當呼叫到該 method 時 他會扣除 10 點魔力並且列印出 \"造成X點魔法攻擊\" 但如果魔力量不足則會列印出 \"魔力不足無法使用魔法攻擊\"\n",
    "把這個 magician 這個 class 做完後並且創建一個實例 (instance)"
   ]
  },
  {
   "cell_type": "code",
   "execution_count": null,
   "id": "68f41f9d",
   "metadata": {},
   "outputs": [],
   "source": [
    "class Magician(xxx):\n",
    "    xxxx"
   ]
  },
  {
   "cell_type": "markdown",
   "id": "00a57610",
   "metadata": {},
   "source": [
    "### 多形\n",
    "- 多形是物件導向程式設計的三大特性之一，它允許我們使用相同的程式碼來處理不同類別的物件。多形可以幫助我們提高程式碼的靈活性和可維護性。\n",
    "\n",
    "1. 定義一個 Shape 類別，具有 draw() 方法。\n",
    "2. 定義一個 Circle 類別繼承自 Shape，並覆寫 draw() 方法以繪製一個圓形。\n",
    "3. 定義一個 Square 類別繼承自 Shape，並覆寫 draw() 方法以繪製一個正方形。\n",
    "4. 建立一個 shapes 列表，包含 Circle 和 Square 物件。\n",
    "5. 使用迴圈依序呼叫 shapes 中的 draw() 方法。"
   ]
  },
  {
   "cell_type": "code",
   "execution_count": 14,
   "id": "592d70ad",
   "metadata": {},
   "outputs": [
    {
     "name": "stdout",
     "output_type": "stream",
     "text": [
      "691.54\n"
     ]
    }
   ],
   "source": [
    "# class Shape:\n",
    "#     def __init__(self, r):\n",
    "#         self.r = r\n",
    "#     def area(self):\n",
    "#         pass\n",
    "\n",
    "# class Circle(Shape):\n",
    "#     def area(self): # overwrite\n",
    "#         return self.r * self.r * 3.14\n",
    "\n",
    "# class Square(Shape):\n",
    "#     def area(self): # overwrite\n",
    "#         return self.r * self.r\n",
    "\n",
    "\n",
    "from my_pkg.test_module import Circle, Square\n",
    "\n",
    "shapes = []\n",
    "c1 = Circle(5)\n",
    "s1 = Square(10)\n",
    "c2 = Circle(6)\n",
    "s2 = Square(20)\n",
    "\n",
    "shapes.append(c1)\n",
    "shapes.append(s1)\n",
    "shapes.append(c2)\n",
    "shapes.append(s2)\n",
    "\n",
    "area = 0\n",
    "for shape in shapes:\n",
    "    area += shape.area()\n",
    "print(area)"
   ]
  },
  {
   "cell_type": "markdown",
   "id": "014bb08c",
   "metadata": {},
   "source": [
    "### 封裝\n",
    "- 封裝是物件導向程式設計的三大特性之一，它允許我們隱藏類別的實作細節，只暴露給使用者需要的資訊。封裝可以幫助我們提高程式碼的安全性和可維護性。\n",
    "1. 定義一個 Account 類別，具有 balance 屬性，以及 deposit() 和 withdraw() 方法。\n",
    "2. 將 balance 屬性設為 private。\n",
    "3. 建立一個 account 物件，並嘗試直接修改 balance 屬性。\n",
    "4. 使用 account.deposit() 方法存入 100 元。\n",
    "5. 使用 account.withdraw() 方法提取 50 元。\n",
    "6. 印出 account.balance 的值。\n"
   ]
  },
  {
   "cell_type": "code",
   "execution_count": 36,
   "id": "c93e3785",
   "metadata": {
    "scrolled": true
   },
   "outputs": [
    {
     "name": "stdout",
     "output_type": "stream",
     "text": [
      "before deposit 1000\n",
      "after deposit 2000\n"
     ]
    }
   ],
   "source": [
    "class Account:\n",
    "    def __init__(self, username, password, balance):\n",
    "        self.username = username\n",
    "        self.__password = password\n",
    "        self.__balance = balance\n",
    "        self.interest_rate = 0.01\n",
    "        \n",
    "    def __get_balance(self):\n",
    "        return self.__balance\n",
    "    \n",
    "    def check_password(self, valid_password):\n",
    "        return self.__password == valid_password\n",
    "    \n",
    "    def show_info(self):\n",
    "        balance = self.__get_balance()\n",
    "        print(f\"{self.username} current balance is:{balance}, interest_rate:{self.interest_rate}\")\n",
    "    \n",
    "    def deposit(self, money):\n",
    "        if money > 0:\n",
    "            print(f\"before deposit {self.__get_balance()}\")\n",
    "            self.__balance += money\n",
    "            print(f\"after deposit {self.__get_balance()}\")\n",
    "            \n",
    "        else:\n",
    "            print(f\"you can't deposit negative amount\")\n",
    "           \n",
    "        \n",
    "acc = Account(\"henry\", \"12345\", 1000)\n",
    "acc2 = Account(\"merry\", \"ji3k27au4a83\", 10000)\n",
    "# print(acc.check_password(\"12345\"))\n",
    "# acc.__get_balance()\n",
    "# acc.show_info()\n",
    "acc.deposit(1000)\n",
    "# # print(acc.__password)\n",
    "# # print()"
   ]
  },
  {
   "cell_type": "code",
   "execution_count": null,
   "id": "a61a5634",
   "metadata": {},
   "outputs": [],
   "source": [
    "class Solution:\n",
    "    def twoSum(self, nums: List[int], target: int) -> List[int]:\n",
    "        pass\n",
    "    \n",
    "sol = Solution()\n",
    "if [1,2] == sol.towSum([1,2,3], 3):\n",
    "    print(\"you pass\")\n",
    "else:\n",
    "    print(\"dont pass\")"
   ]
  }
 ],
 "metadata": {
  "kernelspec": {
   "display_name": "Python 3 (ipykernel)",
   "language": "python",
   "name": "python3"
  },
  "language_info": {
   "codemirror_mode": {
    "name": "ipython",
    "version": 3
   },
   "file_extension": ".py",
   "mimetype": "text/x-python",
   "name": "python",
   "nbconvert_exporter": "python",
   "pygments_lexer": "ipython3",
   "version": "3.10.11"
  }
 },
 "nbformat": 4,
 "nbformat_minor": 5
}
