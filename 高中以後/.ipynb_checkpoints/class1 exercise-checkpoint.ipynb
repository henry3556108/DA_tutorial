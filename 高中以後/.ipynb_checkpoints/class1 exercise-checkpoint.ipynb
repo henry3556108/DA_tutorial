{
 "cells": [
  {
   "cell_type": "markdown",
   "id": "52f5fbed",
   "metadata": {},
   "source": [
    "# Python 中的 random.randint()\n",
    "\n",
    "嗨！各位國中生，今天我們來聊聊 Python 中的 random.randint()。\n",
    "\n",
    "## random.randint() 的功能\n",
    "\n",
    "random.randint() 函數可以用來產生一個隨機整數。\n",
    "\n",
    "## random.randint() 的用法\n",
    "\n",
    "random.randint() 函數需要兩個參數：\n",
    "\n",
    "* 最小值\n",
    "* 最大值\n",
    "\n",
    "函數會返回一個介於最小值和最大值之間的隨機整數，包括最小值和最大值。\n",
    "\n",
    "## 舉例來說\n",
    "\n",
    "```python\n",
    "from random import * # 這一行的意思是，從 random 這個 package 之中載入所有的功能\n",
    "# 載入過後 random 裡面的功能都可以在你的程式裡面使用\n",
    "\n",
    "\n",
    "# 產生一個介於 1 和 10 之間的隨機整數\n",
    "number = randint(1, 10)\n",
    "\n",
    "print(number)\n",
    "\n",
    "輸出：\n",
    "5\n",
    "\n",
    "```\n",
    "\n",
    "## 練習\n",
    "- 使用 random.randint() 函數，產生一個介於 1 和 100 之間的隨機整數。"
   ]
  },
  {
   "cell_type": "code",
   "execution_count": null,
   "id": "2b8c682e",
   "metadata": {},
   "outputs": [],
   "source": [
    "from random import * # 這一行的意思是，從 random 這個 package 之中載入所有的功能\n"
   ]
  },
  {
   "cell_type": "markdown",
   "id": "1b1cf2f9",
   "metadata": {},
   "source": [
    "## 練習\n",
    "henry 與 maggie 在玩骰子遊戲，他們在玩比大小\n",
    "遊戲的流程如下\n",
    "```\n",
    "1. 先輸入大 or 小 決定此輪要比大還比小\n",
    "2. henry 與 maggie 的骰子點數由 random 的 randint 決定\n",
    "3. 透過 if else 判斷誰贏了\n",
    "```\n",
    "\n",
    "範例\n",
    "```\n",
    "> 輸入比大比小：大 \n",
    "henry 5 點, maggie 4 點, henry 獲勝\n",
    "```\n",
    "\n",
    "hint\n",
    "```\n",
    "需要使用到 random 的 randint, if else, input, print\n",
    "```"
   ]
  },
  {
   "cell_type": "code",
   "execution_count": null,
   "id": "2904753e",
   "metadata": {},
   "outputs": [],
   "source": []
  }
 ],
 "metadata": {
  "kernelspec": {
   "display_name": "Python 3 (ipykernel)",
   "language": "python",
   "name": "python3"
  },
  "language_info": {
   "codemirror_mode": {
    "name": "ipython",
    "version": 3
   },
   "file_extension": ".py",
   "mimetype": "text/x-python",
   "name": "python",
   "nbconvert_exporter": "python",
   "pygments_lexer": "ipython3",
   "version": "3.10.11"
  }
 },
 "nbformat": 4,
 "nbformat_minor": 5
}
