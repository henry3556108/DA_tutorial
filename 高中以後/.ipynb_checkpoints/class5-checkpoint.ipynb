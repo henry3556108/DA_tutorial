{
 "cells": [
  {
   "cell_type": "markdown",
   "id": "33767b33",
   "metadata": {},
   "source": [
    "### Dictionary\n",
    "- dictionary 是一種用於存儲資料的資料結構。它由鍵值對組成。鍵是唯一的，用於識別值。\n",
    "- dictionary 可以比作一本字典。\n",
    "    - 鍵 可以比作字典中的詞語。\n",
    "    - 值 可以比作字典對詞語的解釋。\n",
    "```python\n",
    "dict = {key1: value1, key2:value2}\n",
    "```\n",
    "- 可以用於\n",
    "    - 存儲資料\n",
    "    - 查找資料\n",
    "    - 刪除資料\n",
    "\n",
    "- 無序性（Unordered）： 字典中的元素是無序排列的，因此不能通過索引來訪問元素。字典的元素是以鍵-值（Key-Value）對的形式存儲的，並且根據鍵來訪問和查找值。\n",
    "- 可變性（Mutable）： 字典是可變的，這意味著你可以添加、修改和刪除字典中的元素。\n",
    "- 唯一性（Unique Keys）： 字典中的鍵必須是唯一的，每個鍵都對應一個唯一的值。如果你嘗試使用已存在的鍵來添加新值，則會覆蓋原有的值。\n",
    "- 多樣性（Mixed Data Types）： 字典可以包含不同類型的值，例如整數、浮點數、字符串、列表、甚至是其他字典等。\n",
    "- 可迭代性（Iterable）： 你可以使用迴圈來遍歷字典的所有鍵或所有值，也可以同時遍歷鍵和值。\n",
    "- 效率高（Efficient Lookup）： 字典的查找操作非常高效，因為它使用了哈希表（Hash Table）來實現，所以查找速度不受字典大小的影響。\n",
    "- 不允許重複鍵（No Duplicate Keys）： 字典中不能有重複的鍵，如果嘗試添加相同的鍵，後面的值將覆蓋前面的值。\n",
    "- 不支持切片（No Slicing）： 由於字典是無序的，它不支持像列表一樣的切片操作。"
   ]
  },
  {
   "cell_type": "code",
   "execution_count": 6,
   "id": "6b93db13",
   "metadata": {},
   "outputs": [
    {
     "name": "stdout",
     "output_type": "stream",
     "text": [
      "10\n"
     ]
    }
   ],
   "source": [
    "my_dic = {\n",
    "    \"name\": \"John Doe\",\n",
    "    \"age\": 30,\n",
    "    \"city\": \"New York\"\n",
    "}\n",
    "# 這個就是一個 dictionary 的例子\n",
    "dic = {}\n",
    "dic = dict()"
   ]
  },
  {
   "cell_type": "code",
   "execution_count": 3,
   "id": "3304192d",
   "metadata": {},
   "outputs": [
    {
     "ename": "KeyError",
     "evalue": "'gender'",
     "output_type": "error",
     "traceback": [
      "\u001b[0;31m---------------------------------------------------------------------------\u001b[0m",
      "\u001b[0;31mKeyError\u001b[0m                                  Traceback (most recent call last)",
      "Cell \u001b[0;32mIn[3], line 10\u001b[0m\n\u001b[1;32m      2\u001b[0m my_dic \u001b[38;5;241m=\u001b[39m {\n\u001b[1;32m      3\u001b[0m     \u001b[38;5;124m\"\u001b[39m\u001b[38;5;124mname\u001b[39m\u001b[38;5;124m\"\u001b[39m: \u001b[38;5;124m\"\u001b[39m\u001b[38;5;124mJohn Doe\u001b[39m\u001b[38;5;124m\"\u001b[39m,\n\u001b[1;32m      4\u001b[0m     \u001b[38;5;124m\"\u001b[39m\u001b[38;5;124mage\u001b[39m\u001b[38;5;124m\"\u001b[39m: \u001b[38;5;241m30\u001b[39m,\n\u001b[1;32m      5\u001b[0m     \u001b[38;5;124m\"\u001b[39m\u001b[38;5;124mcity\u001b[39m\u001b[38;5;124m\"\u001b[39m: \u001b[38;5;124m\"\u001b[39m\u001b[38;5;124mNew York\u001b[39m\u001b[38;5;124m\"\u001b[39m\n\u001b[1;32m      6\u001b[0m }\n\u001b[1;32m      7\u001b[0m \u001b[38;5;66;03m# name = my_dic[\"name\"]\u001b[39;00m\n\u001b[1;32m      8\u001b[0m \u001b[38;5;66;03m# age = my_dic[\"age\"]\u001b[39;00m\n\u001b[1;32m      9\u001b[0m \u001b[38;5;66;03m# city = my_dic[\"city\"]\u001b[39;00m\n\u001b[0;32m---> 10\u001b[0m gender \u001b[38;5;241m=\u001b[39m \u001b[43mmy_dic\u001b[49m\u001b[43m[\u001b[49m\u001b[38;5;124;43m\"\u001b[39;49m\u001b[38;5;124;43mgender\u001b[39;49m\u001b[38;5;124;43m\"\u001b[39;49m\u001b[43m]\u001b[49m\n\u001b[1;32m     11\u001b[0m \u001b[38;5;66;03m# print(name, age, city)\u001b[39;00m\n",
      "\u001b[0;31mKeyError\u001b[0m: 'gender'"
     ]
    }
   ],
   "source": [
    "# 查找資料\n",
    "my_dic = {\n",
    "    \"name\": \"John Doe\",\n",
    "    \"age\": 30,\n",
    "    \"city\": \"New York\"\n",
    "}\n",
    "name = my_dic[\"name\"]\n",
    "age = my_dic[\"age\"]\n",
    "city = my_dic[\"city\"]\n",
    "print(name, age, city)"
   ]
  },
  {
   "cell_type": "code",
   "execution_count": 5,
   "id": "9e4f88b4",
   "metadata": {},
   "outputs": [
    {
     "name": "stdout",
     "output_type": "stream",
     "text": [
      "{}\n",
      "{'name': 'John Doe', 'age': 30, 'city': 'New York'}\n",
      "{'name': 'John Doe', 'age': 29, 'city': 'New York'}\n"
     ]
    }
   ],
   "source": [
    "# 新增資料\n",
    "dic = {}\n",
    "print(dic)\n",
    "dic[\"name\"] = \"John Doe\"\n",
    "dic[\"age\"] = 30\n",
    "dic[\"city\"] = \"New York\"\n",
    "print(dic)\n",
    "\n",
    "dic[\"age\"] = 29 # 修改\n",
    "print(dic)"
   ]
  },
  {
   "cell_type": "code",
   "execution_count": 9,
   "id": "d8ffaa62",
   "metadata": {},
   "outputs": [
    {
     "name": "stdout",
     "output_type": "stream",
     "text": [
      "{'name': 'John Doe', 'age': 30, 'city': 'New York'}\n",
      "{'age': 30, 'city': 'New York'}\n",
      "{'city': 'New York'}\n",
      "{}\n"
     ]
    },
    {
     "ename": "KeyError",
     "evalue": "'city'",
     "output_type": "error",
     "traceback": [
      "\u001b[0;31m---------------------------------------------------------------------------\u001b[0m",
      "\u001b[0;31mKeyError\u001b[0m                                  Traceback (most recent call last)",
      "Cell \u001b[0;32mIn[9], line 17\u001b[0m\n\u001b[1;32m     14\u001b[0m \u001b[38;5;28;01mdel\u001b[39;00m my_dic[\u001b[38;5;124m\"\u001b[39m\u001b[38;5;124mcity\u001b[39m\u001b[38;5;124m\"\u001b[39m]\n\u001b[1;32m     15\u001b[0m \u001b[38;5;28mprint\u001b[39m(my_dic)\n\u001b[0;32m---> 17\u001b[0m \u001b[38;5;28;01mdel\u001b[39;00m my_dic[\u001b[38;5;124m\"\u001b[39m\u001b[38;5;124mcity\u001b[39m\u001b[38;5;124m\"\u001b[39m]\n\u001b[1;32m     18\u001b[0m \u001b[38;5;28mprint\u001b[39m(my_dic)\n",
      "\u001b[0;31mKeyError\u001b[0m: 'city'"
     ]
    }
   ],
   "source": [
    "my_dic = {\n",
    "    \"name\": \"John Doe\",\n",
    "    \"age\": 30,\n",
    "    \"city\": \"New York\"\n",
    "}\n",
    "print(my_dic)\n",
    "\n",
    "del my_dic[\"name\"]\n",
    "print(my_dic)\n",
    "\n",
    "del my_dic[\"age\"]\n",
    "print(my_dic)\n",
    "\n",
    "del my_dic[\"city\"]\n",
    "print(my_dic)\n",
    "\n",
    "# del my_dic[\"city\"]\n",
    "# print(my_dic)"
   ]
  },
  {
   "cell_type": "markdown",
   "id": "55d9d900",
   "metadata": {},
   "source": [
    "## Dictionary 常用的方法\n",
    "\n",
    "- dict.get() 方法用於獲取 dictionary 中的值。如果鍵不存在，則返回默認值。\n",
    "- dict.setdefault() 方法用於設置 dictionary 中的值。如果鍵不存在，則創建一個新的鍵值對。\n",
    "- dict.pop() 方法用於刪除 dictionary 中的鍵值對。\n",
    "- dict.update(other_dict): 將另一個字典的鍵值對合併到當前字典中，若有相同鍵，則更新其值。\n",
    "- dict.keys() 方法用於獲取 dictionary 中的所有鍵。\n",
    "- dict.values() 方法用於獲取 dictionary 中的所有值。\n",
    "- dict.items() 方法用於獲取 dictionary 中的所有鍵值對。"
   ]
  },
  {
   "cell_type": "code",
   "execution_count": 17,
   "id": "e2cb9cb7",
   "metadata": {},
   "outputs": [
    {
     "name": "stdout",
     "output_type": "stream",
     "text": [
      "John Doe\n",
      "30\n",
      "-1\n"
     ]
    }
   ],
   "source": [
    "my_dic = {\"name\": \"John Doe\", \"age\": 30}\n",
    "\n",
    "name = my_dic.get(\"name\")\n",
    "age = my_dic.get(\"age\")\n",
    "city = my_dic.get(\"city\")\n",
    "\n",
    "print(name)\n",
    "# Output: John Doe\n",
    "\n",
    "print(age)\n",
    "# Output: 30\n",
    "\n",
    "print(city)\n",
    "# Output: None"
   ]
  },
  {
   "cell_type": "code",
   "execution_count": 20,
   "id": "d92446ad",
   "metadata": {},
   "outputs": [
    {
     "name": "stdout",
     "output_type": "stream",
     "text": [
      "{'name': 'John Doe'}\n",
      "30 John Doe\n",
      "{'name': 'John Doe', 'age': 30}\n"
     ]
    }
   ],
   "source": [
    "my_dic = {\"name\": \"John Doe\"}\n",
    "\n",
    "print(my_dic)\n",
    "\n",
    "# age = my_dic.setdefault(\"age\")\n",
    "age = my_dic.setdefault(\"age\", 30)\n",
    "name = my_dic.setdefault(\"name\", \"Bob\")\n",
    "\n",
    "print(age, name)\n",
    "\n",
    "print(my_dic)\n"
   ]
  },
  {
   "cell_type": "code",
   "execution_count": 14,
   "id": "9e80d55d",
   "metadata": {},
   "outputs": [
    {
     "name": "stdout",
     "output_type": "stream",
     "text": [
      "John Doe\n",
      "{'age': 30}\n"
     ]
    }
   ],
   "source": [
    "my_dic = {\"name\": \"John Doe\", \"age\": 30}\n",
    "\n",
    "name = my_dic.pop(\"name\")\n",
    "\n",
    "print(name)\n",
    "# Output: John Doe\n",
    "\n",
    "print(my_dic)\n",
    "# Output: {\"age\": 30}"
   ]
  },
  {
   "cell_type": "code",
   "execution_count": 19,
   "id": "e2686528",
   "metadata": {},
   "outputs": [
    {
     "name": "stdout",
     "output_type": "stream",
     "text": [
      "{'name': 'Bob', 'city': 'New York'}\n"
     ]
    }
   ],
   "source": [
    "my_dic = {\"name\": \"John Doe\"}\n",
    "\n",
    "# other_dic = {\"age\": 30, \"city\": \"New York\"}\n",
    "other_dic = {\"name\": \"Bob\", \"city\": \"New York\"}\n",
    "\n",
    "my_dic.update(other_dic)\n",
    "\n",
    "print(my_dic)"
   ]
  },
  {
   "cell_type": "code",
   "execution_count": 22,
   "id": "454004b9",
   "metadata": {},
   "outputs": [
    {
     "name": "stdout",
     "output_type": "stream",
     "text": [
      "dict_items([('name', 'John Doe'), ('age', 30)])\n"
     ]
    }
   ],
   "source": [
    "my_dic = {\"name\": \"John Doe\", \"age\": 30}\n",
    "\n",
    "# keys = my_dic.keys()\n",
    "\n",
    "# print(keys)\n",
    "# Output: dict_keys([\"name\", \"age\"])\n",
    "\n",
    "# values = my_dic.values()\n",
    "\n",
    "# print(values)\n",
    "# Output: dict_values([\"John Doe\", 30])\n",
    "\n",
    "items = my_dic.items()\n",
    "\n",
    "print(items)\n",
    "# # Output: dict_items([(\"name\", \"John Doe\"), (\"age\", 30)])\n"
   ]
  },
  {
   "cell_type": "markdown",
   "id": "4d979586",
   "metadata": {},
   "source": [
    "## 結合迴圈"
   ]
  },
  {
   "cell_type": "code",
   "execution_count": null,
   "id": "3cf8cfc0",
   "metadata": {},
   "outputs": [],
   "source": [
    "# 計算元素出現次數\n",
    "s = \"an apple a day\"\n",
    "my_dic = {}\n",
    "\n",
    "for ele in s:\n",
    "    appear_times = my_dic.get(ele, 0)\n",
    "    appear_times += 1\n",
    "    my_dic[ele] = appear_times"
   ]
  },
  {
   "cell_type": "code",
   "execution_count": null,
   "id": "f769efad",
   "metadata": {},
   "outputs": [],
   "source": [
    "my_dic = {\"name\": \"John Doe\", \"age\": 30, \"city\": \"New York\"}\n",
    "\n",
    "for key, value in my_dic.items():\n",
    "    print(key, value)"
   ]
  },
  {
   "cell_type": "markdown",
   "id": "e3b535e3",
   "metadata": {},
   "source": [
    "## 練習 字數統計\n",
    "\n",
    "- 輸入一串英文句子，並且統計該句子中的每一個字母出現次數\n",
    "\n",
    "```\n",
    "範例輸入\n",
    "today is a nice day\n",
    "\n",
    "範例輸出\n",
    "{'t': 1, 'o': 1, 'd': 2, 'a': 3, 'y': 2, ' ': 4, 'i': 2, 's': 1, 'n': 1, 'c': 1, 'e': 1}\n",
    "```"
   ]
  },
  {
   "cell_type": "code",
   "execution_count": null,
   "id": "e308437a",
   "metadata": {},
   "outputs": [],
   "source": []
  },
  {
   "cell_type": "markdown",
   "id": "0c8eaa0d",
   "metadata": {},
   "source": [
    "## 前置練習\n",
    "- 提供你一串 list ，其中含有許多不同的數字，我要找出最大與最小的元素，不可以使用 min max 兩個 function，要用迴圈，請問該怎麼找"
   ]
  },
  {
   "cell_type": "code",
   "execution_count": null,
   "id": "c03f3b19",
   "metadata": {},
   "outputs": [],
   "source": [
    "ls = [1,2,3,6,7,4,3,5,9,4,11,2,4]\n",
    "# 請找出 ls 之中的最大與最小元素\n"
   ]
  },
  {
   "cell_type": "markdown",
   "id": "9d2c1443",
   "metadata": {},
   "source": [
    "## 練習\n",
    "\n",
    "- 輸入一串英文句子，並且統計該句子中的每一個字母出現次數，最後列印出出現次數最多的字母\n",
    "\n",
    "```\n",
    "範例輸入\n",
    "today is a nice day\n",
    "\n",
    "範例輸出\n",
    "a 是出現次數最多的字母，總共出現 3 次\n",
    "```\n",
    "\n",
    "hint: format, loop, dict"
   ]
  },
  {
   "cell_type": "code",
   "execution_count": null,
   "id": "62c2d83b",
   "metadata": {},
   "outputs": [],
   "source": []
  },
  {
   "cell_type": "markdown",
   "id": "5934fa15",
   "metadata": {},
   "source": [
    "## 練習 大賣場\n",
    "- 給定一個大賣場賣的商品列表，輸入你所攜帶的現金金額，您可以持續的輸入您想購物的商品，直到輸入 exit 如果該商品超過您所持有的現金則 print 出\"金額不足\""
   ]
  },
  {
   "cell_type": "code",
   "execution_count": 23,
   "id": "b06a1290",
   "metadata": {
    "scrolled": true
   },
   "outputs": [],
   "source": [
    "shop = {\"蘋果\":25, \"香蕉\":20, \"餅乾\":30, \"檸檬汁\":40, \"電冰箱\":1000}"
   ]
  },
  {
   "cell_type": "markdown",
   "id": "3d8a5f37",
   "metadata": {},
   "source": [
    "- 範例互動\n",
    "```\n",
    "請輸入攜帶現金:200\n",
    "商品列表\n",
    "蘋果:25\n",
    "香蕉:20\n",
    "餅乾:30\n",
    "檸檬汁:40\n",
    "電冰箱:1000\n",
    "請輸入您想購買的商品: 蘋果\n",
    "剩餘金額: 175\n",
    "請輸入您想購買的商品: 蘋果\n",
    "剩餘金額: 150\n",
    "請輸入您想購買的商品: 電冰箱\n",
    "剩餘金額: 金額不足\n",
    "請輸入您想購買的商品: 餅乾\n",
    "剩餘金額: 120\n",
    "請輸入您想購買的商品: exit\n",
    "結束購物\n",
    "您購買了\n",
    "蘋果*2\n",
    "餅乾*1\n",
    "```"
   ]
  },
  {
   "cell_type": "markdown",
   "id": "c224539b",
   "metadata": {},
   "source": [
    "- [leetcode1](https://leetcode.com/problems/divide-array-into-equal-pairs/description/)\n",
    "\n",
    "- [leetcode2](https://leetcode.com/problems/count-number-of-pairs-with-absolute-difference-k/)\n",
    "\n",
    "這一題可以用 巢狀迴圈 也可以先用 dictionary 在用單層迴圈寫\n",
    "\n",
    "- [這邊提供了兩種的解法](https://leetcode.com/problems/count-number-of-pairs-with-absolute-difference-k/solutions/2101510/2-approach-python-solution-o-n-o-n2/) 可以練習 trace 別人的 code"
   ]
  },
  {
   "cell_type": "code",
   "execution_count": null,
   "id": "b718dbe8",
   "metadata": {},
   "outputs": [],
   "source": []
  }
 ],
 "metadata": {
  "kernelspec": {
   "display_name": "Python 3 (ipykernel)",
   "language": "python",
   "name": "python3"
  },
  "language_info": {
   "codemirror_mode": {
    "name": "ipython",
    "version": 3
   },
   "file_extension": ".py",
   "mimetype": "text/x-python",
   "name": "python",
   "nbconvert_exporter": "python",
   "pygments_lexer": "ipython3",
   "version": "3.12.4"
  }
 },
 "nbformat": 4,
 "nbformat_minor": 5
}
