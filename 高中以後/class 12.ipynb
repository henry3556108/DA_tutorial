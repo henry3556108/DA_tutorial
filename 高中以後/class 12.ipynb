{
 "cells": [
  {
   "cell_type": "markdown",
   "id": "de622bdf",
   "metadata": {},
   "source": [
    "## Lambda 匿名函式\n",
    "\n",
    "- Lambda 函數是一種快速定義單行的小函數，它們通常用於需要將函數作為參數傳遞給其他函數的場合，如排序或過濾數據時。Lambda 函數的語法非常簡潔：\n",
    "```python\n",
    "lambda 參數: 表達式\n",
    "```\n",
    "換句話說，你可以把 lambda 跟 function 聯想再一起，只是 lambda 比較簡單而已"
   ]
  },
  {
   "cell_type": "code",
   "execution_count": 5,
   "id": "0873f8a6",
   "metadata": {},
   "outputs": [
    {
     "name": "stdout",
     "output_type": "stream",
     "text": [
      "8\n",
      "16\n",
      "None\n",
      "None\n",
      "{2: 1, 1: 3}\n"
     ]
    }
   ],
   "source": [
    "# 使用 lambda 定義加法函式\n",
    "add = lambda x, y: x + y\n",
    "result = add(5, 3)\n",
    "print(result)  # 輸出：8\n",
    "\n",
    "# 使用 lambda 定義平方函式\n",
    "square = lambda x: x**2\n",
    "print(square(4))  # 輸出：16\n",
    "\n",
    "\n",
    "\n",
    "key_to_value = lambda x, y: {y:x} # {}\n",
    "dic = {1:2, 3:1}\n",
    "new_dic = {}\n",
    "for key, value in dic.items():\n",
    "    new_dic.update(key_to_value(key, value))\n",
    "print(new_dic)"
   ]
  },
  {
   "cell_type": "markdown",
   "id": "a56a71a6",
   "metadata": {},
   "source": [
    "## Sorted\n",
    "```python\n",
    "sorted(iterable, key=None, reverse=False)\n",
    "# iterable：要排序的可迭代對象，如列表、元組等。\n",
    "# key：可選參數，指定一個函數，用於從 iterable 中的每個元素中提取比較鍵（例如，對字典中的特定鍵進行排序）。\n",
    "# reverse：可選參數，如果設置為 True，則進行降序排序（默認為 False，即升序排序）。\n",
    "```"
   ]
  },
  {
   "cell_type": "code",
   "execution_count": 22,
   "id": "f332d129",
   "metadata": {},
   "outputs": [
    {
     "data": {
      "text/plain": [
       "[(2, 2), (1, 3), (3, 5)]"
      ]
     },
     "execution_count": 22,
     "metadata": {},
     "output_type": "execute_result"
    }
   ],
   "source": [
    "# cars = [(\"1\",6), (\"2\", 5), (\"3\", 7)]\n",
    "dic = {1:3, 2:2, 3:5}\n",
    "# cars = [2,1,3]\n",
    "# cars.sort()\n",
    "# print(cars)\n",
    "# print(sorted(dic))\n",
    "sorted(dic.items(), key=lambda x: x[1])"
   ]
  },
  {
   "cell_type": "code",
   "execution_count": null,
   "id": "90ce0ae5",
   "metadata": {},
   "outputs": [],
   "source": [
    "dic = {1:5, 2:4, 3:2, 4:3}"
   ]
  },
  {
   "cell_type": "code",
   "execution_count": 19,
   "id": "faf2f316",
   "metadata": {},
   "outputs": [
    {
     "name": "stdout",
     "output_type": "stream",
     "text": [
      "{3: 2, 4: 3, 2: 4, 1: 5}\n"
     ]
    }
   ],
   "source": [
    "# 使用 sorted 排序，依照 dictionary 的 value 來排序\n",
    "# dictinary -> list(tuple) -> dictionary\n",
    "dic = {1:5, 2:4, 3:2, 4:3}\n",
    "# print(dic.items())\n",
    "sorted_dic=sorted(dic.items(), key=lambda item:item[1])\n",
    "\n",
    "print(dict(sorted_dic))"
   ]
  },
  {
   "cell_type": "markdown",
   "id": "7194a676",
   "metadata": {},
   "source": [
    "## Zip 函數\n",
    "zip 函數用於將多個列表或其他可迭代對象中的對應元素配對，創建一個新的迭代器（生成的元素為元組）。當你有兩個或多個具有相關性的序列時，zip 是非常有用的。\n",
    "\n",
    "```python\n",
    "zip(可迭代對象1, 可迭代對象2, ...)\n",
    "```"
   ]
  },
  {
   "cell_type": "code",
   "execution_count": 27,
   "id": "0f71fe39",
   "metadata": {},
   "outputs": [
    {
     "name": "stdout",
     "output_type": "stream",
     "text": [
      "[('Alice', 85), ('Bob', 90), ('Charlie', 88)]\n"
     ]
    }
   ],
   "source": [
    "names = ['Alice', 'Bob', 'Charlie']\n",
    "scores = [85, 90, 88, 60]\n",
    "\n",
    "zip_data = zip(names, scores)\n",
    "# print(zip_data)\n",
    "students = list(zip_data) # Casting\n",
    "\n",
    "# students = list(zip(names, scores))\n",
    "\n",
    "print(students)  # 輸出 [('Alice', 85), ('Bob', 90), ('Charlie', 88)]"
   ]
  },
  {
   "cell_type": "code",
   "execution_count": 18,
   "id": "d2307405",
   "metadata": {},
   "outputs": [
    {
     "name": "stdout",
     "output_type": "stream",
     "text": [
      "[('Alice', 85, 85), ('Bob', 90, 90), ('Charlie', 88, 88), ('Mandy', 60, 70)]\n"
     ]
    }
   ],
   "source": [
    "names = ['Alice', 'Bob', 'Charlie', \"Mandy\"]\n",
    "math_scores = [85, 90, 88, 60]\n",
    "chinese_scores = [85, 90, 88, 70]\n",
    "\n",
    "zip_data = zip(names, math_scores, chinese_scores)\n",
    "# print(zip_data)\n",
    "students = list(zip_data) # Casting\n",
    "\n",
    "# students = list(zip(names, scores))\n",
    "\n",
    "print(students)  # 輸出 [('Alice', 85), ('Bob', 90), ('Charlie', 88)]"
   ]
  },
  {
   "cell_type": "code",
   "execution_count": 25,
   "id": "ebc41ff5",
   "metadata": {},
   "outputs": [
    {
     "name": "stdout",
     "output_type": "stream",
     "text": [
      "[('Alice', 'Bob', 'Charlie', 'Mandy'), (85, 90, 88, 60), (85, 90, 88, 70)]\n",
      "('Alice', 'Bob', 'Charlie', 'Mandy') (85, 90, 88, 60) (85, 90, 88, 70)\n"
     ]
    }
   ],
   "source": [
    "new_names, new_math_score, new_chinese_score = list(zip(*students))\n",
    "print(list(zip(*students)))\n",
    "print(new_names, new_math_score, new_chinese_score)"
   ]
  },
  {
   "cell_type": "code",
   "execution_count": 28,
   "id": "954bc662",
   "metadata": {},
   "outputs": [
    {
     "name": "stdout",
     "output_type": "stream",
     "text": [
      "('Alice', 85)\n",
      "('Bob', 90)\n",
      "('Charlie', 88)\n",
      "Alice\t的數學成績是:85\n",
      "Bob\t的數學成績是:90\n",
      "Charlie\t的數學成績是:88\n"
     ]
    }
   ],
   "source": [
    "for student in students:\n",
    "    print(student)\n",
    "\n",
    "for name, score in students:\n",
    "    print(f\"{name}\\t的數學成績是:{score}\")"
   ]
  },
  {
   "cell_type": "markdown",
   "id": "19af3a34",
   "metadata": {},
   "source": [
    "## filter map\n",
    "- filter() 和 map() 是 Python 中兩個常用的內建函式，用於對序列（例如列表、元組等）進行過濾和轉換操作。它們可以與 lambda 函式一起使用，提供了一種簡潔而強大的方式來處理資料。\n",
    "\n",
    "```python\n",
    "filter(function_name, iterable)\n",
    "# function name：定義了過濾條件的函數。該函數應返回 True 或 False，根據這個值來過濾元素。\n",
    "# iterable：要過濾的可迭代對象。\n",
    "```\n",
    "\n",
    "```python\n",
    "map(function_name, iterable)\n",
    "# function name：定義了映射操作的函數。該函數將應用於 iterable 中的每個元素。\n",
    "# iterable：要映射的可迭代對象。\n",
    "```"
   ]
  },
  {
   "cell_type": "code",
   "execution_count": 40,
   "id": "b13f8676",
   "metadata": {},
   "outputs": [
    {
     "name": "stdout",
     "output_type": "stream",
     "text": [
      "[36, 35]\n"
     ]
    }
   ],
   "source": [
    "# 使用 lambda 和 filter 過濾偶數\n",
    "numbers = [37.7, 36, 35, 30]\n",
    "\n",
    "def is_normal(x): \n",
    "    if x > 37:\n",
    "        return False\n",
    "    elif x >= 35:\n",
    "        return True\n",
    "    else:\n",
    "        return False\n",
    "\n",
    "even_numbers = list(filter(is_normal, numbers))\n",
    "print(even_numbers)  # 輸出：[2, 4, 6]\n",
    "\n",
    "# 使用 lambda 和 map 將每個數字乘以 2\n",
    "# numbers = [1, 2, 3, 4, 5]\n",
    "# multiplied_numbers = map(lambda x: x * 2, numbers)\n",
    "# print(multiplied_numbers)  # 輸出：[2, 4, 6, 8, 10]"
   ]
  },
  {
   "cell_type": "code",
   "execution_count": 39,
   "id": "30749b5c",
   "metadata": {},
   "outputs": [
    {
     "name": "stdout",
     "output_type": "stream",
     "text": [
      "['A', 'C']\n"
     ]
    }
   ],
   "source": [
    "s = \"AbCde\"\n",
    "upper_char = lambda x: x.isupper()\n",
    "result = list(filter(upper_char, s))\n",
    "print(result)"
   ]
  },
  {
   "cell_type": "code",
   "execution_count": 2,
   "id": "c6be756e",
   "metadata": {},
   "outputs": [
    {
     "data": {
      "text/plain": [
       "['apple']"
      ]
     },
     "execution_count": 2,
     "metadata": {},
     "output_type": "execute_result"
    }
   ],
   "source": [
    "words = [\"apple\", \"banana\", \"cherry\", \"date\", \"grape\", \"kiwi\", \"lemon\"]\n",
    "new_word = []\n",
    "for word in words:\n",
    "    for alpha in word:\n",
    "        if \"a\" == alpha[0]: \n",
    "            new_word.append(word)\n",
    "for word in words:\n",
    "    list(filter(lambda x: x[0] == \"a\", words))"
   ]
  },
  {
   "cell_type": "code",
   "execution_count": 3,
   "id": "ade4b4c7",
   "metadata": {},
   "outputs": [],
   "source": [
    "# 請想辦法將上面的功能，使用 filter 函數過濾出來\n",
    "\n",
    "# 過濾出字串長度為 5 的單字\n",
    "words = [\"apple\", \"banana\", \"cherry\", \"date\", \"grape\", \"kiwi\", \"lemon\"]\n",
    "\n",
    "# even_numbers = list(filter(is_even, numbers))"
   ]
  },
  {
   "cell_type": "code",
   "execution_count": 4,
   "id": "3eb2bede",
   "metadata": {},
   "outputs": [
    {
     "name": "stdout",
     "output_type": "stream",
     "text": [
      "['apple']\n"
     ]
    }
   ],
   "source": [
    "words = [\"apple\", \"banana\", \"cherry\", \"date\", \"grape\", \"kiwi\", \"lemon\"]\n",
    "\n",
    "def is_paladiroms(s):\n",
    "    return s == s[::-1]\n",
    "\n",
    "new_word = list(filter(is_paladiroms, words))# 就可以只找第一個字\n"
   ]
  },
  {
   "cell_type": "code",
   "execution_count": 8,
   "id": "07122ffb",
   "metadata": {},
   "outputs": [
    {
     "data": {
      "text/plain": [
       "[1, 3, 5, 7, 9]"
      ]
     },
     "execution_count": 8,
     "metadata": {},
     "output_type": "execute_result"
    }
   ],
   "source": [
    "# 使用 filter 過濾出正數\n",
    "numbers = [1, -2, 3, -4, 5, -6, 7, -8, 9]\n",
    "filter1 = lambda x: x > 0\n",
    "list(filter(filter1, numbers))"
   ]
  },
  {
   "cell_type": "code",
   "execution_count": null,
   "id": "034fd0b3",
   "metadata": {},
   "outputs": [],
   "source": [
    "# 使用 filter 過濾出字串列表中的長度大於等於 5 的單詞。"
   ]
  },
  {
   "cell_type": "code",
   "execution_count": null,
   "id": "5a2fc90e",
   "metadata": {},
   "outputs": [],
   "source": [
    "scores = {'Alice': 90, 'Bob': 75, 'Charlie': 88, 'David': 92}\n",
    "\n",
    "# 使用 filter 選擇分數大於等於 90 的學生\n"
   ]
  },
  {
   "cell_type": "code",
   "execution_count": 43,
   "id": "b823b6ab",
   "metadata": {},
   "outputs": [
    {
     "name": "stdout",
     "output_type": "stream",
     "text": [
      "['APPLE', 'BANANA', 'CHERRY', 'DATE', 'GRAPE', 'KIWI', 'LEMON']\n"
     ]
    }
   ],
   "source": [
    "# 用 map 將字串列表中的單詞轉換為大寫\n",
    "words = [\"apple\", \"banana\", \"cherry\", \"date\", \"grape\", \"kiwi\", \"lemon\"]\n",
    "to_upper = lambda x: x.upper()\n",
    "\n",
    "def to_upper(x):\n",
    "    return x.upper()\n",
    "\n",
    "upper_words = list(map(to_upper, words))\n",
    "print(upper_words)"
   ]
  },
  {
   "cell_type": "code",
   "execution_count": 8,
   "id": "4360db75",
   "metadata": {},
   "outputs": [
    {
     "name": "stdout",
     "output_type": "stream",
     "text": [
      "Alice\n",
      "David\n"
     ]
    }
   ],
   "source": [
    "scores = {'Alice': 90, 'Bob': 75, 'Charlie': 88, 'David': 92}\n",
    "change = lambda x , y : (y , x)\n",
    "for key, value in scores.items():\n",
    "    if value >= 90:\n",
    "        print(key)\n",
    "\n",
    "# filter_scores = lambda x : x[0] >= 90\n",
    "\n",
    "\n",
    "########原寫法 list(filter(filter_scores,change_scores) 為什麼要使用map\n",
    "# list(filter(filter_scores, map(change, scores.keys(), scores.values())))\n",
    "list(filter(lambda x: x))\n",
    "#####不懂這個item的用法\n",
    "\n",
    "#答案\n",
    "# scores = {'Alice': 90, 'Bob': 75, 'Charlie':"
   ]
  },
  {
   "cell_type": "markdown",
   "id": "e673206d",
   "metadata": {},
   "source": [
    "## Comprehension\n",
    "- List Comprehension \n",
    "    - 是 Python 中一種簡潔且強大的方式來創建新的列表，它允許你在一行代碼中執行過濾、轉換和生成操作。以下是列表解析的使用方法和基本語法\n",
    "    ```python\n",
    "    new_list = [expression for item in iterable if condition]\n",
    "    # new_list：新的列表，用於存儲生成的元素。\n",
    "    # expression：根據 item 計算出的新元素的表達式。\n",
    "    # item：從可迭代對象 iterable 中取出的元素。\n",
    "    # condition：可選條件，用於過濾元素。\n",
    "    ```\n",
    "- Set & Dictionary Comprehension\n",
    "    - 集合解析（Set Comprehension）和字典解析（Dictionary Comprehension）與列表理解（List Comprehension）類似，但它們用於創建集合（set）和字典（dictionary\n",
    "    ```python\n",
    "    new_set = {expression for item in iterable if condition}\n",
    "    # new_set：新的集合，用於存儲生成的元素。\n",
    "    # expression：根據 item 計算出的新元素的表達式。\n",
    "    # item：從可迭代對象 iterable 中取出的元素。\n",
    "    # condition：可選條件，用於過濾元素。\n",
    "    \n",
    "    new_dict = {key_expression: value_expression for item in iterable if condition}\n",
    "    # new_dict：新的字典，用於存儲生成的鍵-值對。\n",
    "    # key_expression：根據 item 計算出的新鍵的表達式。\n",
    "    # value_expression：根據 item 計算出的新值的表達式。\n",
    "    # item：從可迭代對象 iterable 中取出的元素。\n",
    "    # condition：可選條件，用於過濾元素。\n",
    "    ```"
   ]
  },
  {
   "cell_type": "code",
   "execution_count": 46,
   "id": "647975cd",
   "metadata": {},
   "outputs": [
    {
     "name": "stdout",
     "output_type": "stream",
     "text": [
      "[1, 2, 3, 4, 5, 6, 7, 8, 9, 10]\n",
      "[2, 4, 6, 8, 10]\n"
     ]
    }
   ],
   "source": [
    "# 生成一個包含 1 到 10 的整數的列表 使用 List Comprehension 的方式寫出來\n",
    "# l = []\n",
    "# for i in range(1, 11):\n",
    "#     l.append(i)\n",
    "# print(l)\n",
    "\n",
    "l = [i for i in range(1, 11)]\n",
    "print(l)\n",
    "\n",
    "l = [i for i in range(1, 11) if i % 2 == 0] # 如果迭代到的數字是偶數，則放進 list 之中\n",
    "print(l)\n",
    "\n",
    "s = \"Apple,Banana,Candy\"\n",
    "l = [i for i in s if i.isupper()]\n",
    "print(l)"
   ]
  },
  {
   "cell_type": "code",
   "execution_count": null,
   "id": "bf8a00f3",
   "metadata": {},
   "outputs": [],
   "source": [
    "# 過濾出列表中的偶數 使用 List Comprehension 的方式寫出來\n",
    "numbers = [1, 2, 3, 4, 5, 6, 7, 8, 9, 10]\n",
    "\n",
    "# 過濾出列表中的偶數 使用 filter 的方式寫出來\n",
    "numbers = [1, 2, 3, 4, 5, 6, 7, 8, 9, 10]"
   ]
  },
  {
   "cell_type": "code",
   "execution_count": 7,
   "id": "198582ad",
   "metadata": {},
   "outputs": [
    {
     "name": "stdout",
     "output_type": "stream",
     "text": [
      "[1, 4, 9, 16, 25]\n"
     ]
    }
   ],
   "source": [
    "# 生成一個列表中每個數字的平方 使用 List Comprehension 的方式寫出來\n",
    "numbers = [1, 2, 3, 4, 5]\n",
    "\n",
    "# 生成一個列表中每個數字的平方 使用 map 的方式寫出來\n",
    "# numbers = [1, 2, 3, 4, 5]"
   ]
  },
  {
   "cell_type": "code",
   "execution_count": null,
   "id": "d08008e0",
   "metadata": {},
   "outputs": [],
   "source": [
    "# 進階題 過濾出一個列表中的質數\n",
    "# 1. filter 需要能夠給他 True Fasle 的 function，請先建構這個 function 記得使用 type hint 提示\n",
    "# 2. 與 filter 函數一起結合使用過濾出列表中的質數"
   ]
  },
  {
   "cell_type": "code",
   "execution_count": 15,
   "id": "326b07d3",
   "metadata": {},
   "outputs": [
    {
     "name": "stdout",
     "output_type": "stream",
     "text": [
      "{90: 'Trista', 55: 'Candy', 89: 'Charlie', 59: 'Kevin'}\n"
     ]
    }
   ],
   "source": [
    "d = {\"Trista\":90, \"Candy\": 55, \"Charlie\":89, \"Kevin\":59}\n",
    "\n",
    "d = {v: k for k, v in d.items()}\n",
    "print(d)\n",
    "# d = {key:value for key, value in d.items() if value >= 60 and key[0].lower() == \"c\"}\n",
    "# print(d)"
   ]
  },
  {
   "cell_type": "code",
   "execution_count": 11,
   "id": "f4233049",
   "metadata": {
    "scrolled": true
   },
   "outputs": [
    {
     "name": "stdout",
     "output_type": "stream",
     "text": [
      "s\n"
     ]
    }
   ],
   "source": [
    "# print(\"S\".islower())\n",
    "print(\"S\".lower())"
   ]
  }
 ],
 "metadata": {
  "kernelspec": {
   "display_name": "Python 3 (ipykernel)",
   "language": "python",
   "name": "python3"
  },
  "language_info": {
   "codemirror_mode": {
    "name": "ipython",
    "version": 3
   },
   "file_extension": ".py",
   "mimetype": "text/x-python",
   "name": "python",
   "nbconvert_exporter": "python",
   "pygments_lexer": "ipython3",
   "version": "3.12.4"
  }
 },
 "nbformat": 4,
 "nbformat_minor": 5
}
