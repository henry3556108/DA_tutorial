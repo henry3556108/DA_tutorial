{
 "cells": [
  {
   "cell_type": "markdown",
   "id": "c5b3559f",
   "metadata": {},
   "source": [
    "## for 迴圈\n",
    "- 這個語法可以想像成，我想要去迭代每一個元素。"
   ]
  },
  {
   "cell_type": "code",
   "execution_count": null,
   "id": "470be46b",
   "metadata": {},
   "outputs": [],
   "source": [
    "numbers = [1, 2, 3, 4, 5]\n",
    "for number in numbers:\n",
    "    print(number)\n"
   ]
  },
  {
   "cell_type": "code",
   "execution_count": 1,
   "id": "a49307bb",
   "metadata": {},
   "outputs": [
    {
     "name": "stdout",
     "output_type": "stream",
     "text": [
      "h\n",
      "e\n",
      "l\n",
      "l\n",
      "o\n"
     ]
    }
   ],
   "source": [
    "string = \"hello\"\n",
    "for char in string: ## for 迴圈\n",
    "    print(char)\n"
   ]
  },
  {
   "cell_type": "markdown",
   "id": "acb492fb",
   "metadata": {},
   "source": [
    "## 練習 累加\n",
    "- 請問以下兩份程式碼輸出會差在哪裡呢？\n",
    "```python\n",
    "total = 0 \n",
    "numbers = [1,2,3,4,5]\n",
    "for ele in numbers:\n",
    "    total += numbers\n",
    "print(total)\n",
    "\n",
    "numbers = [1,2,3,4,5]\n",
    "for ele in numbers:\n",
    "    total = 0 \n",
    "    total += numbers\n",
    "print(total)\n",
    "```"
   ]
  },
  {
   "cell_type": "code",
   "execution_count": 2,
   "id": "d883bb87",
   "metadata": {
    "scrolled": true
   },
   "outputs": [
    {
     "name": "stdout",
     "output_type": "stream",
     "text": [
      "0\n",
      "1\n",
      "2\n",
      "3\n",
      "4\n"
     ]
    }
   ],
   "source": [
    "for i in range(5):\n",
    "    print(i)"
   ]
  },
  {
   "cell_type": "markdown",
   "id": "b5dd634c",
   "metadata": {},
   "source": [
    "## 練習 製作號碼條\n",
    "- 功能描述：輸入一個數字，會輸出條碼\n",
    "\n",
    "```\n",
    "範例輸入：\n",
    "5\n",
    "\n",
    "範例輸出：\n",
    "No. 1\n",
    "No. 2\n",
    "No. 3\n",
    "No. 4\n",
    "No. 5\n",
    "```\n"
   ]
  },
  {
   "cell_type": "code",
   "execution_count": null,
   "id": "310ee3f9",
   "metadata": {},
   "outputs": [],
   "source": []
  },
  {
   "cell_type": "code",
   "execution_count": 4,
   "id": "89f41409",
   "metadata": {
    "scrolled": true
   },
   "outputs": [
    {
     "name": "stdout",
     "output_type": "stream",
     "text": [
      "1\n",
      "3\n",
      "5\n"
     ]
    }
   ],
   "source": [
    "# 進階 range\n",
    "\n",
    "for i in range(1, 6, 2):\n",
    "    print(i)\n",
    "# range(end(捨棄)) 0~end(捨棄)\n",
    "# range(start, end(捨棄)) start~end(捨棄)\n",
    "# range(start, end(捨棄), step) start~end(捨棄)，每次走 step 步"
   ]
  },
  {
   "cell_type": "markdown",
   "id": "f5668d48",
   "metadata": {},
   "source": [
    "## 練習 等差級數\n",
    "- 功能描述：我希望能夠輸入三筆資料，分別代表首相、末項與差，根據這三個不同的數字，列印出該數列的等差級數"
   ]
  },
  {
   "cell_type": "code",
   "execution_count": null,
   "id": "dde80edd",
   "metadata": {},
   "outputs": [],
   "source": []
  },
  {
   "cell_type": "markdown",
   "id": "a7011ba0",
   "metadata": {},
   "source": [
    "## 練習1\n",
    "- 以下提供一個成績，請幫用 if 語法判定該成績是否為及格的成績，如果為及格的請幫我列印出`及格`反之列印出`不及格`"
   ]
  },
  {
   "cell_type": "code",
   "execution_count": null,
   "id": "2ab4639f",
   "metadata": {},
   "outputs": [],
   "source": [
    "score = 50\n",
    "\n",
    "if \n"
   ]
  },
  {
   "cell_type": "markdown",
   "id": "9dcc55fe",
   "metadata": {},
   "source": [
    "## 練習2\n",
    "- 以下提供一群學生的成績紀錄，請使用 for 迴圈迭代其中的每個元素，幫我計算該串列之中有多少人不及格\n",
    "\n",
    "hint：你可以想一下，上面的程式碼可以怎麼應用在這個練習之中"
   ]
  },
  {
   "cell_type": "code",
   "execution_count": 7,
   "id": "18fdb9ed",
   "metadata": {},
   "outputs": [
    {
     "name": "stdout",
     "output_type": "stream",
     "text": [
      "2\n"
     ]
    }
   ],
   "source": [
    "scores = [59, 60, 100, 80, 45]\n",
    "total = 0\n",
    "for score in scores:\n",
    "    if score < 60:\n",
    "        total += 1\n",
    "print(total)"
   ]
  },
  {
   "cell_type": "markdown",
   "id": "2bb6c6c4",
   "metadata": {},
   "source": [
    "## while 迴圈\n",
    "- 這個語法可以把他想像為 \"當\" 某個條件發生時，就持續做某些事情"
   ]
  },
  {
   "cell_type": "code",
   "execution_count": 3,
   "id": "fbbda2f1",
   "metadata": {},
   "outputs": [
    {
     "name": "stdout",
     "output_type": "stream",
     "text": [
      "1\n",
      "2\n",
      "3\n",
      "4\n",
      "5\n"
     ]
    }
   ],
   "source": [
    "numbers = [1, 2, 3, 4, 5]\n",
    "i = 0\n",
    "while i < len(numbers):\n",
    "    print(numbers[i])\n",
    "    i += 1"
   ]
  },
  {
   "cell_type": "code",
   "execution_count": 9,
   "id": "e3e6e189",
   "metadata": {},
   "outputs": [
    {
     "name": "stdout",
     "output_type": "stream",
     "text": [
      "h\n",
      "e\n",
      "l\n",
      "l\n",
      "o\n"
     ]
    }
   ],
   "source": [
    "string = \"hello\"\n",
    "i = 0\n",
    "while i < len(string):\n",
    "    print(string[i])\n",
    "    i += 1"
   ]
  },
  {
   "cell_type": "markdown",
   "id": "dcdc75b1",
   "metadata": {},
   "source": [
    "## 進階用法\n",
    "除了基礎使用方法之外，Python 迴圈還有一些進階用法。\n",
    "\n",
    "### break 和 continue 語句\n",
    "- break 語句用於強制跳出迴圈。\n",
    "- continue 語句用於跳過當前迴圈的剩餘部分，直接執行下一次迴圈。\n",
    "\n",
    "- 以下程式碼將只輸出偶數：\n",
    "\n",
    "```python\n",
    "for number in range(10):\n",
    "    if number % 2 == 1:\n",
    "        continue\n",
    "    else:\n",
    "        print(number)\n",
    "\n",
    "```\n",
    "\n",
    "- 以下程式碼將在使用者輸入 quit 時跳出迴圈：\n",
    "\n",
    "```python\n",
    "while True:\n",
    "    name = input(\"請輸入您的姓名：\")\n",
    "    if name == \"quit\":\n",
    "        break\n",
    "    else:\n",
    "        print(\"您好，\" + name)\n",
    "\n",
    "```\n",
    "\n",
    "\n"
   ]
  },
  {
   "cell_type": "markdown",
   "id": "0cc5909a",
   "metadata": {},
   "source": [
    "## 練習 是否為質數\n",
    "- 功能描述：輸入一個數字，如果該數字為質數列印出`是質數`反之列因出`不是質數`"
   ]
  },
  {
   "cell_type": "code",
   "execution_count": null,
   "id": "25870f74",
   "metadata": {},
   "outputs": [],
   "source": []
  },
  {
   "cell_type": "markdown",
   "id": "3ffadd6a",
   "metadata": {},
   "source": [
    "## 費氏數列\n",
    "\n",
    "- 輸入一個數字輸出費氏數列對應的值(1,1,2,3,5,8,13,21...)\n",
    "```\n",
    "範例輸入 1\n",
    "範例輸出 1\n",
    "\n",
    "範例輸入 3\n",
    "範例輸出 2\n",
    "\n",
    "範例輸入 6\n",
    "範例輸出 8\n",
    "```"
   ]
  },
  {
   "cell_type": "code",
   "execution_count": null,
   "id": "a6c70062",
   "metadata": {},
   "outputs": [],
   "source": []
  },
  {
   "cell_type": "markdown",
   "id": "02210d4e",
   "metadata": {},
   "source": [
    "## 複利問題\n",
    "- 分三次輸入，各自輸入本金、年利率、存幾年，以年複利的形式計算你的本金在存款N年後會變為多少，輸出以整數做顯示\n",
    "```\n",
    "範例輸入：20 (20萬)\n",
    "範例輸入：10 (年利率10%)\n",
    "範例輸入：5 (5年)\n",
    "範例輸出：32\n",
    "```"
   ]
  },
  {
   "cell_type": "code",
   "execution_count": null,
   "id": "7f22ed83",
   "metadata": {},
   "outputs": [],
   "source": []
  },
  {
   "cell_type": "markdown",
   "id": "1ba27a12",
   "metadata": {},
   "source": [
    "## 串列元素相加\n",
    "- 功能描述：提供你兩個串列，將串列相對應位置的資料做相加，並且最終輸出\n",
    "\n",
    "### 範例\n",
    "\n",
    "ls1 = [1,2,3,4,5]\n",
    "\n",
    "ls2 = [1,1,1,1,1]\n",
    "\n",
    "[2,3,4,5,6]\n"
   ]
  },
  {
   "cell_type": "code",
   "execution_count": null,
   "id": "ddbdba62",
   "metadata": {},
   "outputs": [],
   "source": []
  },
  {
   "cell_type": "markdown",
   "id": "7bd1e0f3",
   "metadata": {},
   "source": [
    "## 巢狀迴圈\n",
    "\n",
    "### 什麼是巢狀迴圈？\n",
    "\n",
    "- 巢狀迴圈是指在一個迴圈體內再嵌套另一個迴圈。巢狀迴圈可以用於解決更複雜的問題，例如遍歷多維資料結構或進行多重計算。\n",
    "\n",
    "```python \n",
    "for <外圈迴圈變數> in <外圈迭代對象>:\n",
    "    for <內圈迴圈變數> in <內圈迭代對象>:\n",
    "        <程式碼>\n",
    "```"
   ]
  },
  {
   "cell_type": "code",
   "execution_count": 2,
   "id": "936889d8",
   "metadata": {},
   "outputs": [
    {
     "name": "stdout",
     "output_type": "stream",
     "text": [
      "[1, 2, 3]\n",
      "[4, 5, 6]\n",
      "[7, 8, 9]\n"
     ]
    }
   ],
   "source": [
    "matrix = [[1, 2, 3], [4, 5, 6], [7, 8, 9]]\n",
    "for row in matrix:\n",
    "    print(row)\n",
    "#     for column in row:\n",
    "#         print(column)\n"
   ]
  },
  {
   "cell_type": "code",
   "execution_count": 3,
   "id": "5c2aa3b8",
   "metadata": {},
   "outputs": [
    {
     "name": "stdout",
     "output_type": "stream",
     "text": [
      "1 * 1 = 1\n",
      "1 * 2 = 2\n",
      "1 * 3 = 3\n",
      "1 * 4 = 4\n",
      "1 * 5 = 5\n",
      "1 * 6 = 6\n",
      "1 * 7 = 7\n",
      "1 * 8 = 8\n",
      "1 * 9 = 9\n",
      "2 * 1 = 2\n",
      "2 * 2 = 4\n",
      "2 * 3 = 6\n",
      "2 * 4 = 8\n",
      "2 * 5 = 10\n",
      "2 * 6 = 12\n",
      "2 * 7 = 14\n",
      "2 * 8 = 16\n",
      "2 * 9 = 18\n",
      "3 * 1 = 3\n",
      "3 * 2 = 6\n",
      "3 * 3 = 9\n",
      "3 * 4 = 12\n",
      "3 * 5 = 15\n",
      "3 * 6 = 18\n",
      "3 * 7 = 21\n",
      "3 * 8 = 24\n",
      "3 * 9 = 27\n",
      "4 * 1 = 4\n",
      "4 * 2 = 8\n",
      "4 * 3 = 12\n",
      "4 * 4 = 16\n",
      "4 * 5 = 20\n",
      "4 * 6 = 24\n",
      "4 * 7 = 28\n",
      "4 * 8 = 32\n",
      "4 * 9 = 36\n",
      "5 * 1 = 5\n",
      "5 * 2 = 10\n",
      "5 * 3 = 15\n",
      "5 * 4 = 20\n",
      "5 * 5 = 25\n",
      "5 * 6 = 30\n",
      "5 * 7 = 35\n",
      "5 * 8 = 40\n",
      "5 * 9 = 45\n",
      "6 * 1 = 6\n",
      "6 * 2 = 12\n",
      "6 * 3 = 18\n",
      "6 * 4 = 24\n",
      "6 * 5 = 30\n",
      "6 * 6 = 36\n",
      "6 * 7 = 42\n",
      "6 * 8 = 48\n",
      "6 * 9 = 54\n",
      "7 * 1 = 7\n",
      "7 * 2 = 14\n",
      "7 * 3 = 21\n",
      "7 * 4 = 28\n",
      "7 * 5 = 35\n",
      "7 * 6 = 42\n",
      "7 * 7 = 49\n",
      "7 * 8 = 56\n",
      "7 * 9 = 63\n",
      "8 * 1 = 8\n",
      "8 * 2 = 16\n",
      "8 * 3 = 24\n",
      "8 * 4 = 32\n",
      "8 * 5 = 40\n",
      "8 * 6 = 48\n",
      "8 * 7 = 56\n",
      "8 * 8 = 64\n",
      "8 * 9 = 72\n",
      "9 * 1 = 9\n",
      "9 * 2 = 18\n",
      "9 * 3 = 27\n",
      "9 * 4 = 36\n",
      "9 * 5 = 45\n",
      "9 * 6 = 54\n",
      "9 * 7 = 63\n",
      "9 * 8 = 72\n",
      "9 * 9 = 81\n"
     ]
    }
   ],
   "source": [
    "for i in range(1, 10):\n",
    "    for j in range(1, 10):\n",
    "        print(f\"{i} * {j} = {i * j}\")\n"
   ]
  },
  {
   "cell_type": "markdown",
   "id": "d1d7dc35",
   "metadata": {},
   "source": [
    "## 矩陣元素相加\n",
    "- 功能描述：提供你兩個矩陣，將串列相對應位置的資料做相加，並且最終輸出\n",
    "- 透過上面的串列相加，思考一下怎麼將概念套用進巢狀迴圈之中\n",
    "### 範例\n",
    "\n",
    "matrix1 = [[1, 2, 3], [4, 5, 6], [7, 8, 9]]\n",
    "\n",
    "matrix2 = [[1, 2, 3], [4, 5, 6], [7, 8, 9]]\n",
    "\n",
    "[[2, 4, 6], [8, 10, 12], [14, 16, 18]]\n"
   ]
  },
  {
   "cell_type": "code",
   "execution_count": null,
   "id": "7c451f36",
   "metadata": {},
   "outputs": [],
   "source": []
  },
  {
   "cell_type": "markdown",
   "id": "3bf80efb",
   "metadata": {},
   "source": [
    "## 所有的質數\n",
    "- 功能描述：輸入一個數字 N, print 出從 2 ~ n 之間的所有質數"
   ]
  },
  {
   "cell_type": "code",
   "execution_count": null,
   "id": "73553fa3",
   "metadata": {},
   "outputs": [],
   "source": []
  },
  {
   "cell_type": "markdown",
   "id": "b659e3d6",
   "metadata": {},
   "source": [
    "## 所有的質數\n",
    "- 功能描述：輸入一個數字 N, print 出從 2 ~ n 之間的所有質數，如果輸入的數字不合規，例如負數，則列印出`請重新輸入`後讓使用者重新輸入。\n",
    "- 注意這個需要結合無窮迴圈的輸入"
   ]
  },
  {
   "cell_type": "code",
   "execution_count": null,
   "id": "fe0a1f0b",
   "metadata": {},
   "outputs": [],
   "source": []
  }
 ],
 "metadata": {
  "kernelspec": {
   "display_name": "Python 3 (ipykernel)",
   "language": "python",
   "name": "python3"
  },
  "language_info": {
   "codemirror_mode": {
    "name": "ipython",
    "version": 3
   },
   "file_extension": ".py",
   "mimetype": "text/x-python",
   "name": "python",
   "nbconvert_exporter": "python",
   "pygments_lexer": "ipython3",
   "version": "3.10.11"
  }
 },
 "nbformat": 4,
 "nbformat_minor": 5
}
