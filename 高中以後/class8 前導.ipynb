{
 "cells": [
  {
   "cell_type": "markdown",
   "id": "02119bdc",
   "metadata": {},
   "source": [
    "## class 類別\n",
    "\n",
    "什麼是類別？\n",
    "\n",
    "- 類別是一種將資料和行為封裝成一個單元的結構。類別可以幫助我們將程式碼組織成更小的、更易於管理的部分，並且可以重複使用。\n",
    "\n",
    "```python\n",
    "class 類別名稱:\n",
    "    # 類別內部程式碼\n",
    "\n",
    "```"
   ]
  },
  {
   "cell_type": "markdown",
   "id": "b2d54b49",
   "metadata": {},
   "source": [
    "以下提供一個範例\n",
    "\n",
    "```python\n",
    "class Person:\n",
    "    def __init__(self, name, age):\n",
    "        # 初始化屬性\n",
    "        self.name = name\n",
    "        self.age = age\n",
    "\n",
    "    def say_hello(self):\n",
    "        print(\"Hello, my name is {}!\".format(self.name))\n",
    "\n",
    "\n",
    "# 建立 Person 物件\n",
    "person = Person(\"John Doe\", 30)\n",
    "\n",
    "# 訪問 Person 物件的屬性\n",
    "print(person.name)\n",
    "\n",
    "# 呼叫 Person 物件的方法\n",
    "person.say_hello()\n",
    "\n",
    "```\n",
    "\n",
    "這個類別定義了兩個屬性：name 和 age，以及一個方法 method：say_hello()。\n",
    "\n",
    "\n",
    "```\n",
    "在 Python 中，init 是一個特殊的方法，用於初始化（即設置或準備）一個新創建的物件。它在類實例化時自動調用，允許程序員在物件被創建時執行必要的設置或操作，以確保物件具備初始狀態和屬性。\n",
    "```\n",
    "\n",
    "\n",
    "[什麼是self](https://pixnashpython.pixnet.net/blog/post/28850806-%E3%80%90python%E5%9F%BA%E7%A4%8E%E3%80%91%E4%BB%80%E9%BA%BC%E6%98%AFself%3F%E4%BB%80%E9%BA%BC)"
   ]
  },
  {
   "cell_type": "code",
   "execution_count": null,
   "id": "8db4fd39",
   "metadata": {},
   "outputs": [],
   "source": [
    "class Person: # 藍圖\n",
    "    def __init__(self, name, age):\n",
    "        # 初始化屬性\n",
    "        self.name = name\n",
    "        self.age = age\n",
    "\n",
    "    def say_hello(self):\n",
    "        print(\"Hello, my name is {}!\".format(self.name))\n",
    "\n",
    "\n",
    "# 建立 Person 物件\n",
    "person = Person(\"John Doe\", 30)\n",
    "\n",
    "# 訪問 Person 物件的屬性\n",
    "print(person.name)\n",
    "\n",
    "# 呼叫 Person 物件的方法\n",
    "person.say_hello()"
   ]
  },
  {
   "cell_type": "code",
   "execution_count": 8,
   "id": "4e7fd545",
   "metadata": {},
   "outputs": [
    {
     "name": "stdout",
     "output_type": "stream",
     "text": [
      "blue\n",
      "100\n"
     ]
    }
   ],
   "source": [
    "# 汽車類別\n",
    "class Cars:\n",
    "    # 建構式\n",
    "    def __init__(self, c, s, speed=100):\n",
    "        self.color = c  # 顏色屬性\n",
    "        self.seat = s  # 座位屬性\n",
    "        self.speed = speed\n",
    "        \n",
    "mazda = Cars(\"blue\", 4)\n",
    "print(mazda.color)\n",
    "print(mazda.speed)\n",
    "\n",
    "# toyota = Cars(\"black\", 4)\n",
    "# print(toyota.color)\n",
    "# print(toyota.speed)\n"
   ]
  },
  {
   "cell_type": "code",
   "execution_count": null,
   "id": "66ea6dcf",
   "metadata": {},
   "outputs": [],
   "source": []
  }
 ],
 "metadata": {
  "kernelspec": {
   "display_name": "Python 3 (ipykernel)",
   "language": "python",
   "name": "python3"
  },
  "language_info": {
   "codemirror_mode": {
    "name": "ipython",
    "version": 3
   },
   "file_extension": ".py",
   "mimetype": "text/x-python",
   "name": "python",
   "nbconvert_exporter": "python",
   "pygments_lexer": "ipython3",
   "version": "3.10.11"
  }
 },
 "nbformat": 4,
 "nbformat_minor": 5
}
