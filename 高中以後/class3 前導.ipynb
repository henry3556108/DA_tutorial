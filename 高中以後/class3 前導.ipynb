{
 "cells": [
  {
   "cell_type": "markdown",
   "id": "76567b06",
   "metadata": {},
   "source": [
    "## loop\n",
    "\n",
    "迴圈是一種在程式中重複執行某段程式碼的控制流程。它可以用於完成各種各樣的任務，例如：\n",
    "\n",
    "* 重複輸出某個訊息\n",
    "* 重複計算某個值\n",
    "* 重複處理某個資料\n",
    "\n",
    "迴圈就像是電腦的「自動化機器人」，可以幫我們節省大量時間和精力。\n",
    "\n",
    "**迴圈的種類**\n",
    "\n",
    "迴圈有許多不同的種類，以下是 Python 中有兩種常用的迴圈：\n",
    "\n",
    "* **for 迴圈**：根據指定的次數重複執行某段程式碼。\n",
    "* **while 迴圈**：根據指定的條件重複執行某段程式碼。\n"
   ]
  },
  {
   "cell_type": "markdown",
   "id": "56c1b479",
   "metadata": {},
   "source": [
    "## for 迴圈格式範例\n",
    "```python\n",
    "for <變數> in <可迭代物件>:\n",
    "    <程式碼>\n",
    "```\n",
    "\n",
    "- <變數>：用於儲存序列中的每個元素。\n",
    "- <可迭代物件> 是要迭代的物件，例如字串、列表、字典等。\n",
    "- <程式碼>：要重複執行的程式碼。\n"
   ]
  },
  {
   "cell_type": "code",
   "execution_count": 1,
   "id": "7c676ecb",
   "metadata": {},
   "outputs": [
    {
     "name": "stdout",
     "output_type": "stream",
     "text": [
      "1\n",
      "2\n",
      "3\n",
      "4\n",
      "5\n"
     ]
    }
   ],
   "source": [
    "for i in [1,2,3,4,5]:\n",
    "    print(i)"
   ]
  },
  {
   "cell_type": "markdown",
   "id": "ad13f34c",
   "metadata": {},
   "source": [
    "## while 迴圈格式範例\n",
    "```python\n",
    "while <條件>:\n",
    "    <程式碼>\n",
    "```\n",
    "\n",
    "- <條件>：用於判斷是否繼續執行迴圈。\n",
    "- <程式碼>：要重複執行的程式碼。"
   ]
  },
  {
   "cell_type": "code",
   "execution_count": 2,
   "id": "ba7e8894",
   "metadata": {},
   "outputs": [
    {
     "name": "stdout",
     "output_type": "stream",
     "text": [
      "請輸入：hello\n",
      "您輸入的是： hello\n",
      "請輸入：quit\n",
      "迴圈結束\n"
     ]
    }
   ],
   "source": [
    "while True:\n",
    "    answer = input(\"請輸入：\")\n",
    "    if answer == \"quit\":\n",
    "        break\n",
    "    else:\n",
    "        print(\"您輸入的是：\", answer)\n",
    "print(\"迴圈結束\")"
   ]
  },
  {
   "cell_type": "code",
   "execution_count": null,
   "id": "fcaa1115",
   "metadata": {},
   "outputs": [],
   "source": []
  }
 ],
 "metadata": {
  "kernelspec": {
   "display_name": "Python 3 (ipykernel)",
   "language": "python",
   "name": "python3"
  },
  "language_info": {
   "codemirror_mode": {
    "name": "ipython",
    "version": 3
   },
   "file_extension": ".py",
   "mimetype": "text/x-python",
   "name": "python",
   "nbconvert_exporter": "python",
   "pygments_lexer": "ipython3",
   "version": "3.10.11"
  }
 },
 "nbformat": 4,
 "nbformat_minor": 5
}
