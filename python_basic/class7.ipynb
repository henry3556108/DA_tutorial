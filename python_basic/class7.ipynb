{
 "cells": [
  {
   "cell_type": "markdown",
   "id": "6f5adcac",
   "metadata": {},
   "source": [
    "## 模組\n",
    "- **模塊（Module）和包（Package）**是組織和結構化代碼的方式。它們允許您將相關的代碼分組到單個單元中，以便更好地管理和組織代碼庫。\n",
    "\n",
    "### 定義\n",
    "- Package（套件）：套件是一個包含多個模組的目錄，它用於將相關的模組組織在一起。套件通常用於將相關功能或主題的程式碼集中在一個地方，以便更好地組織和管理程式庫。套件使用一個特殊的 __init__.py 文件來標識目錄為套件，該文件可以包含初始化套件的程式碼。\n",
    "\n",
    "- Module（模組）：模組是一個包含程式碼的.py文件，它可以包含函式、類別、變數和其他相關的程式碼定義。模組通常用於封裝和組織特定功能的程式碼，並且可以在不同的程式中重複使用。在Python中，每個.py文件都被視為一個獨立的模組，可以使用 import 關鍵字將模組引入其他程式中。\n",
    "\n",
    "- 套件和模組的定義和組織方式如下：\n",
    "    - 模組定義：在.py文件中，使用關鍵字 def、class、import 等定義函式、類別和引入其他模組的語句。\n",
    "    - 套件定義：在目錄中創建 __init__.py 文件，用於標識該目錄為套件。套件目錄中可以包含多個.py文件作為模組，以及其他子套件。\n",
    "### 優點\n",
    "- 使用套件和模組可以幫助組織和管理複雜的程式碼，並提高代碼的可讀性和可重用性。"
   ]
  },
  {
   "cell_type": "markdown",
   "id": "a55f5047",
   "metadata": {},
   "source": [
    "## 使用 module\n",
    "- keyword\n",
    "    - import\n",
    "    - from\n",
    "    - as"
   ]
  },
  {
   "cell_type": "code",
   "execution_count": null,
   "id": "68a4c6c2",
   "metadata": {},
   "outputs": [],
   "source": [
    "# 範例\n",
    "import module\n",
    "import module as md\n",
    "from pkg.sub_pkg import module as md"
   ]
  },
  {
   "cell_type": "code",
   "execution_count": 5,
   "id": "37f96e5d",
   "metadata": {},
   "outputs": [
    {
     "name": "stdout",
     "output_type": "stream",
     "text": [
      "False\n"
     ]
    }
   ],
   "source": [
    "from calculate import is_prime\n",
    "\n",
    "print(is_prime(10))"
   ]
  },
  {
   "cell_type": "markdown",
   "id": "2bdc9235",
   "metadata": {},
   "source": [
    "## random 模組\n",
    "\n",
    "random 模組提供了一系列用於生成隨機數的函數。\n",
    "\n",
    "常見函數\n",
    "\n",
    "- random(): 生成一個介於 0 和 1 之間的浮點數。\n",
    "- randint(a, b): 生成一個介於 a 和 b 之間的整數，包含 a 和 b。\n",
    "- randrange(start, stop, step): 生成一個介於 start 和 stop 之間的整數，以 step 為步長。\n",
    "- choice(seq): 從序列 seq 中隨機選擇一個元素。\n",
    "- shuffle(seq): 將序列 seq 隨機打亂。\n",
    "\n",
    "## 練習\n",
    "- 引入 random 這個隨機模組"
   ]
  },
  {
   "cell_type": "code",
   "execution_count": 9,
   "id": "6a9c3eaa",
   "metadata": {},
   "outputs": [
    {
     "name": "stdout",
     "output_type": "stream",
     "text": [
      "0.49511379384983967\n"
     ]
    }
   ],
   "source": [
    "import random as rd\n",
    "print(rd.random())"
   ]
  },
  {
   "cell_type": "code",
   "execution_count": null,
   "id": "4e6fb768",
   "metadata": {},
   "outputs": [],
   "source": []
  }
 ],
 "metadata": {
  "kernelspec": {
   "display_name": "Python 3 (ipykernel)",
   "language": "python",
   "name": "python3"
  },
  "language_info": {
   "codemirror_mode": {
    "name": "ipython",
    "version": 3
   },
   "file_extension": ".py",
   "mimetype": "text/x-python",
   "name": "python",
   "nbconvert_exporter": "python",
   "pygments_lexer": "ipython3",
   "version": "3.10.11"
  }
 },
 "nbformat": 4,
 "nbformat_minor": 5
}
