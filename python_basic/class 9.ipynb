{
 "cells": [
  {
   "cell_type": "markdown",
   "id": "bbaf56d5",
   "metadata": {},
   "source": [
    "## 檔案讀取\n",
    "\n",
    "在 Python 中讀取檔案是一個很常見也很重要的任務，可以讓你從文件中取得數據進行處理。這裡我將透過簡單的步驟和範例來說明如何在 Python 中讀取文件。"
   ]
  },
  {
   "cell_type": "markdown",
   "id": "2a3155f2",
   "metadata": {},
   "source": [
    "### 步驟 1：打開文件\n",
    "首先，你需要打開一個文件。這可以使用內建的 open() 函數來完成。open() 函數需要最少兩個參數：文件的路徑和模式。讀取模式通常用 'r' 表示。"
   ]
  },
  {
   "cell_type": "code",
   "execution_count": 26,
   "id": "fe9285db",
   "metadata": {},
   "outputs": [
    {
     "ename": "FileNotFoundError",
     "evalue": "[Errno 2] No such file or directory: 'example2.txt'",
     "output_type": "error",
     "traceback": [
      "\u001b[0;31m---------------------------------------------------------------------------\u001b[0m",
      "\u001b[0;31mFileNotFoundError\u001b[0m                         Traceback (most recent call last)",
      "Cell \u001b[0;32mIn[26], line 1\u001b[0m\n\u001b[0;32m----> 1\u001b[0m file \u001b[38;5;241m=\u001b[39m \u001b[38;5;28;43mopen\u001b[39;49m\u001b[43m(\u001b[49m\u001b[38;5;124;43m'\u001b[39;49m\u001b[38;5;124;43mexample2.txt\u001b[39;49m\u001b[38;5;124;43m'\u001b[39;49m\u001b[43m,\u001b[49m\u001b[43m \u001b[49m\u001b[38;5;124;43m'\u001b[39;49m\u001b[38;5;124;43mr\u001b[39;49m\u001b[38;5;124;43m'\u001b[39;49m\u001b[43m)\u001b[49m \u001b[38;5;66;03m# read\u001b[39;00m\n\u001b[1;32m      2\u001b[0m file\u001b[38;5;241m.\u001b[39mread()\n\u001b[1;32m      3\u001b[0m \u001b[38;5;66;03m# 這行代碼會尋找當前目錄下的 example.txt 文件並以讀取模式打開它。\u001b[39;00m\n",
      "File \u001b[0;32m~/miniconda3/lib/python3.10/site-packages/IPython/core/interactiveshell.py:284\u001b[0m, in \u001b[0;36m_modified_open\u001b[0;34m(file, *args, **kwargs)\u001b[0m\n\u001b[1;32m    277\u001b[0m \u001b[38;5;28;01mif\u001b[39;00m file \u001b[38;5;129;01min\u001b[39;00m {\u001b[38;5;241m0\u001b[39m, \u001b[38;5;241m1\u001b[39m, \u001b[38;5;241m2\u001b[39m}:\n\u001b[1;32m    278\u001b[0m     \u001b[38;5;28;01mraise\u001b[39;00m \u001b[38;5;167;01mValueError\u001b[39;00m(\n\u001b[1;32m    279\u001b[0m         \u001b[38;5;124mf\u001b[39m\u001b[38;5;124m\"\u001b[39m\u001b[38;5;124mIPython won\u001b[39m\u001b[38;5;124m'\u001b[39m\u001b[38;5;124mt let you open fd=\u001b[39m\u001b[38;5;132;01m{\u001b[39;00mfile\u001b[38;5;132;01m}\u001b[39;00m\u001b[38;5;124m by default \u001b[39m\u001b[38;5;124m\"\u001b[39m\n\u001b[1;32m    280\u001b[0m         \u001b[38;5;124m\"\u001b[39m\u001b[38;5;124mas it is likely to crash IPython. If you know what you are doing, \u001b[39m\u001b[38;5;124m\"\u001b[39m\n\u001b[1;32m    281\u001b[0m         \u001b[38;5;124m\"\u001b[39m\u001b[38;5;124myou can use builtins\u001b[39m\u001b[38;5;124m'\u001b[39m\u001b[38;5;124m open.\u001b[39m\u001b[38;5;124m\"\u001b[39m\n\u001b[1;32m    282\u001b[0m     )\n\u001b[0;32m--> 284\u001b[0m \u001b[38;5;28;01mreturn\u001b[39;00m \u001b[43mio_open\u001b[49m\u001b[43m(\u001b[49m\u001b[43mfile\u001b[49m\u001b[43m,\u001b[49m\u001b[43m \u001b[49m\u001b[38;5;241;43m*\u001b[39;49m\u001b[43margs\u001b[49m\u001b[43m,\u001b[49m\u001b[43m \u001b[49m\u001b[38;5;241;43m*\u001b[39;49m\u001b[38;5;241;43m*\u001b[39;49m\u001b[43mkwargs\u001b[49m\u001b[43m)\u001b[49m\n",
      "\u001b[0;31mFileNotFoundError\u001b[0m: [Errno 2] No such file or directory: 'example2.txt'"
     ]
    }
   ],
   "source": [
    "file = open('example.txt', 'r') # read\n",
    "file.read()\n",
    "# 這行代碼會尋找當前目錄下的 example.txt 文件並以讀取模式打開它。"
   ]
  },
  {
   "cell_type": "markdown",
   "id": "391d364b",
   "metadata": {},
   "source": [
    "### 步驟 2：讀取文件\n",
    "有幾種不同的方法可以從打開的文件中讀取數據：\n",
    "\n",
    "#### 方法 1：讀取整個文件\n",
    "\n",
    "使用 read() 方法可以一次讀取整個文件的內容。"
   ]
  },
  {
   "cell_type": "code",
   "execution_count": 12,
   "id": "c84b89a1",
   "metadata": {},
   "outputs": [
    {
     "name": "stdout",
     "output_type": "stream",
     "text": [
      "test1\n",
      "test2\n"
     ]
    }
   ],
   "source": [
    "file = open('example.txt', 'r') \n",
    "content = file.read()\n",
    "print(content)"
   ]
  },
  {
   "cell_type": "markdown",
   "id": "ab5cfbd4",
   "metadata": {},
   "source": [
    "#### 方法 2：逐行讀取\n",
    "使用 readline() 可以讀取文件中的單獨一行，而 readlines() 會將每一行作為一個列表的元素返回。"
   ]
  },
  {
   "cell_type": "code",
   "execution_count": 15,
   "id": "360adddd",
   "metadata": {},
   "outputs": [
    {
     "name": "stdout",
     "output_type": "stream",
     "text": [
      "['test1\\n', 'test2']\n"
     ]
    }
   ],
   "source": [
    "file = open('example.txt', 'r') \n",
    "# 讀取 one row\n",
    "# line = file.readline()\n",
    "# print(line)\n",
    "\n",
    "# 讀取所有 row，返回列表\n",
    "all_lines = file.readlines()\n",
    "print(all_lines)"
   ]
  },
  {
   "cell_type": "markdown",
   "id": "f903a581",
   "metadata": {},
   "source": [
    "### 步驟 3：關閉文件\n",
    "操作完成後，很重要的一步是關閉文件。這可以通過 close() 方法完成。"
   ]
  },
  {
   "cell_type": "code",
   "execution_count": 16,
   "id": "2e16f6f1",
   "metadata": {},
   "outputs": [],
   "source": [
    "file.close()"
   ]
  },
  {
   "cell_type": "markdown",
   "id": "68b96d82",
   "metadata": {},
   "source": [
    "## 使用 with 語句自動管理文件\n",
    "為了避免忘記關閉文件，Python 提供了 with 語句來自動管理文件的打開和關閉。使用 with 時，一旦離開了 with 塊，文件將自動關閉。"
   ]
  },
  {
   "cell_type": "code",
   "execution_count": null,
   "id": "2f38108c",
   "metadata": {},
   "outputs": [],
   "source": [
    "with open('example.txt', 'r') as file:\n",
    "    content = file.read()\n",
    "    print(content)"
   ]
  },
  {
   "cell_type": "markdown",
   "id": "96519277",
   "metadata": {},
   "source": [
    "### 編碼問題\n",
    "- **UTF-8： 最常見的Unicode編碼之一，可用於表示世界上大多數字符。**\n",
    "- UTF-16： Unicode的另一種變體，使用16位元（2個字節）或32位元（4個字節）表示字符。\n",
    "- UTF-32： Unicode的一種變體，使用32位元（4個字節）表示每個字符。\n",
    "- ISO-8859-1（Latin-1）： 西歐語言的編碼，包括英語、法語、德語等。\n",
    "- ISO-8859-2（Latin-2）： 用於中歐語言，如波蘭語、捷克語和匈牙利語的編碼。\n",
    "- ISO-8859-5： 用於俄羅斯語的編碼。\n",
    "- Shift-JIS： 日本語的字符編碼。\n",
    "- EUC-KR： 韓國語的字符編碼。\n",
    "- GB2312： 簡化字中文字符集的字符編碼。\n",
    "- **Big5： 繁體中文字符編碼，主要用於台灣和香港。**\n",
    "- ASCII： 7位元或8位元的字符編碼，包括基本拉丁字母、數字和一些特殊字符。"
   ]
  },
  {
   "cell_type": "code",
   "execution_count": null,
   "id": "aabfa211",
   "metadata": {},
   "outputs": [],
   "source": []
  },
  {
   "cell_type": "markdown",
   "id": "02d03e90",
   "metadata": {},
   "source": [
    "## read mode\n",
    "- 'r'：讀取模式（Read mode）。用於讀取檔案的內容。如果檔案不存在，則會拋出錯誤。\n",
    "- 'w'：寫入模式（Write mode）。用於清空檔案並寫入新內容。如果檔案不存在，則會創建新檔案。\n",
    "- 'a'：附加模式（Append mode）。用於在檔案末尾附加新內容。如果檔案不存在，則會創建新檔案。"
   ]
  },
  {
   "cell_type": "code",
   "execution_count": 39,
   "id": "496856c3",
   "metadata": {},
   "outputs": [
    {
     "name": "stdout",
     "output_type": "stream",
     "text": [
      "test1\n",
      "test2\n",
      "test3\n",
      "test4\n",
      "test5\n",
      "test1\n",
      "test2\n",
      "test3\n",
      "test4\n",
      "test5\n",
      "test1\n",
      "test2\n",
      "test3\n",
      "test4\n",
      "test5\n",
      "\n"
     ]
    }
   ],
   "source": [
    "with open(\"test.txt\", \"r\") as f:\n",
    "    content = f.read()\n",
    "    print(content)\n",
    "    f.write(\"test1\\n\")\n",
    "    f.write(\"test2\\n\")\n",
    "    f.write(\"test3\\n\")\n",
    "    f.write(\"test4\\n\")\n",
    "    f.write(\"test5\\n\")"
   ]
  },
  {
   "cell_type": "markdown",
   "id": "44d4bf17",
   "metadata": {},
   "source": [
    "## os module\n",
    "在 Python 中，os 模組提供了豐富的方法來與作業系統交互，如文件和目錄管理、獲取系統資訊等。這裡將介紹一些非常實用的 os 模組功能，並提供範例來幫助理解它們的用法。"
   ]
  },
  {
   "cell_type": "markdown",
   "id": "c36662f3",
   "metadata": {},
   "source": [
    "### 1. 操作路徑\n",
    "\n",
    "os 模組中的 path 子模組提供了一些功能來處理文件路徑。"
   ]
  },
  {
   "cell_type": "code",
   "execution_count": 44,
   "id": "a4ef9d4d",
   "metadata": {},
   "outputs": [
    {
     "name": "stdout",
     "output_type": "stream",
     "text": [
      "class1 exercise.ipynb\n",
      "class1.ipynb\n",
      "class3.ipynb\n",
      "class7.ipynb\n",
      ".DS_Store\n",
      "課綱.md\n",
      "class5.ipynb\n",
      "calculate.py\n",
      "class2.ipynb\n",
      "__pycache__\n",
      "class6.ipynb\n",
      "class8.ipynb\n",
      "example.txt\n",
      "test.txt\n",
      ".ipynb_checkpoints\n",
      "class 9.ipynb\n",
      "class3 前導.ipynb\n",
      "class4 .ipynb\n",
      "class8 前導.ipynb\n"
     ]
    }
   ],
   "source": [
    "import os\n",
    "# 列出當前目錄內容\n",
    "contents = os.listdir()\n",
    "print(\"Directory contents:\", contents)"
   ]
  },
  {
   "cell_type": "code",
   "execution_count": 48,
   "id": "9e93f776",
   "metadata": {},
   "outputs": [
    {
     "name": "stdout",
     "output_type": "stream",
     "text": [
      "Path exists: False\n"
     ]
    }
   ],
   "source": [
    "# 檢查路徑是否存在\n",
    "path_exists = os.path.exists('/path/to/file')\n",
    "print(\"Path exists:\", path_exists)"
   ]
  },
  {
   "cell_type": "markdown",
   "id": "5a1c2ab7",
   "metadata": {},
   "source": [
    "### 2. 管理文件和目錄\n",
    "os 模組提供了創建、刪除和修改文件和目錄的方法。"
   ]
  },
  {
   "cell_type": "code",
   "execution_count": 60,
   "id": "5b1f2cd0",
   "metadata": {},
   "outputs": [],
   "source": [
    "# 創建新目錄\n",
    "os.makedirs('new_directory', exist_ok=True)\n",
    "\n",
    "# # 刪除文件\n",
    "# os.remove('test.txt')\n",
    "\n",
    "# 重命名文件或目錄(也可以拿來移動用)\n",
    "os.rename('old_name', 'new_name')\n"
   ]
  },
  {
   "cell_type": "markdown",
   "id": "9035764d",
   "metadata": {},
   "source": [
    "### 3. 文件路徑操作"
   ]
  },
  {
   "cell_type": "code",
   "execution_count": 66,
   "id": "f866f661",
   "metadata": {},
   "outputs": [
    {
     "name": "stdout",
     "output_type": "stream",
     "text": [
      "Full Path: /path/to/file.txt\n"
     ]
    }
   ],
   "source": [
    "# 合併路徑\n",
    "folder_name = '/path/to'\n",
    "file_name = 'file.txt'\n",
    "full_path = os.path.join(folder_name, file_name)\n",
    "print(\"Full Path:\", full_path)"
   ]
  },
  {
   "cell_type": "markdown",
   "id": "ab08dc00",
   "metadata": {},
   "source": [
    "## 練習\n",
    "### 練習 1: 創建和讀取文件\n",
    "1. 創建一個名為 testfile.txt 的文本文件。\n",
    "2. 向文件寫入數行內容。\n",
    "3. 關閉文件，然後重新打開這個文件並打印其內容。"
   ]
  },
  {
   "cell_type": "code",
   "execution_count": null,
   "id": "ca26f8be",
   "metadata": {},
   "outputs": [],
   "source": []
  },
  {
   "cell_type": "markdown",
   "id": "1d9203e7",
   "metadata": {},
   "source": [
    "### 練習 2: 文件和目錄操作\n",
    "\n",
    "1. 檢查當前目錄中是否存在一個名為 data 的文件夾，如果不存在，則創建它。\n",
    "2. 在 data 文件夾中創建一個名為 example.txt 的文件，並寫入一些數據。\n",
    "3. 列出 data 文件夾的內容。\n",
    "4. 重命名 data 文件夾中的 example.txt 為 new_example.txt。\n",
    "5. 刪除 new_example.txt 文件。"
   ]
  },
  {
   "cell_type": "code",
   "execution_count": null,
   "id": "fb8cb5de",
   "metadata": {},
   "outputs": [],
   "source": []
  },
  {
   "cell_type": "markdown",
   "id": "a83fa772",
   "metadata": {},
   "source": [
    "### 練習 3-1: 輸入內容\n",
    "以下提供一個學生的姓名與成績\n",
    "\n",
    "列印出一位學生的成績內容格式如：王小明:100"
   ]
  },
  {
   "cell_type": "code",
   "execution_count": null,
   "id": "12b4710b",
   "metadata": {},
   "outputs": [],
   "source": [
    "name = \"王小明\"\n",
    "score = 100"
   ]
  },
  {
   "cell_type": "markdown",
   "id": "85edd964",
   "metadata": {},
   "source": [
    "### 練習 3-2: 連續輸入內容\n",
    "以下提供一個 Dictionary 是學生的成績內容\n",
    "\n",
    "用迴圈的方式幫我列印出所有學生的姓名與成績"
   ]
  },
  {
   "cell_type": "code",
   "execution_count": 67,
   "id": "eed354c6",
   "metadata": {},
   "outputs": [
    {
     "data": {
      "text/plain": [
       "dict_items([('王小美', 30), ('黃曉明', 80), ('洪大壯', 100)])"
      ]
     },
     "execution_count": 67,
     "metadata": {},
     "output_type": "execute_result"
    }
   ],
   "source": [
    "dic = {\"王小美\":30, \"黃曉明\":80, \"洪大壯\":100}\n",
    "dic.items()"
   ]
  },
  {
   "cell_type": "markdown",
   "id": "93f51e35",
   "metadata": {},
   "source": [
    "### 練習 3-3: 連續輸入內容\n",
    "依照上面的程式碼在下方能夠在迴圈中將學生的姓名與成績寫入檔案之中\n",
    "\n",
    "- score.txt\n",
    "```\n",
    "王小美:30\n",
    "黃曉明:80\n",
    "洪大壯:100\n",
    "```"
   ]
  },
  {
   "cell_type": "code",
   "execution_count": null,
   "id": "a89fa2e6",
   "metadata": {},
   "outputs": [],
   "source": []
  }
 ],
 "metadata": {
  "kernelspec": {
   "display_name": "Python 3 (ipykernel)",
   "language": "python",
   "name": "python3"
  },
  "language_info": {
   "codemirror_mode": {
    "name": "ipython",
    "version": 3
   },
   "file_extension": ".py",
   "mimetype": "text/x-python",
   "name": "python",
   "nbconvert_exporter": "python",
   "pygments_lexer": "ipython3",
   "version": "3.10.11"
  }
 },
 "nbformat": 4,
 "nbformat_minor": 5
}
