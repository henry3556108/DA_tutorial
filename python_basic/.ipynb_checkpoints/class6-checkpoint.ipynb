{
 "cells": [
  {
   "cell_type": "markdown",
   "id": "eeeb4483",
   "metadata": {},
   "source": [
    "# 函數介紹\n",
    "\n",
    "函數就像魔法咒語一樣，它們可以執行特定的任務。當你寫一個函數時，你實際上是在定義一個可以重複使用的指令集。比如說，你可以寫一個函數來計算兩個數字的和。\n",
    "```python\n",
    "def add_numbers(num1, num2):\n",
    "    sum = num1 + num2\n",
    "    return sum\n",
    "```\n",
    "\n",
    "## 參數\n",
    "\n",
    "在這個例子中，`num1` 和 `num2` 就像是你施展魔法所需的材料。當你呼叫這個函數時，你需要提供這些材料。比如說：\n",
    "\n",
    "```python\n",
    "result = add_numbers(3, 5)\n",
    "print(result)  # 這將會印出 8\n",
    "```"
   ]
  },
  {
   "cell_type": "code",
   "execution_count": null,
   "id": "4e78b17d",
   "metadata": {},
   "outputs": [],
   "source": []
  },
  {
   "cell_type": "markdown",
   "id": "09fab77b",
   "metadata": {},
   "source": [
    "## 預設參數\n",
    "\n",
    "有時候，你可能希望一些參數有預設值，這樣在呼叫函數時就不需要總是提供它們。這就像是你的魔法在某些情況下已經預先準備好了一些材料。比如說，我們可以將 `num2` 參數設置為 0，這樣在不提供第二個參數時，它將默認為 0。\n",
    "\n",
    "```python\n",
    "def add_numbers(num1, num2=0):\n",
    "    total = num1 + num2\n",
    "    return total\n",
    "```\n",
    "這樣，如果你只傳遞了一個參數，則 `num2` 將默認為 0。"
   ]
  },
  {
   "cell_type": "code",
   "execution_count": 2,
   "id": "f599be08",
   "metadata": {},
   "outputs": [
    {
     "name": "stdout",
     "output_type": "stream",
     "text": [
      "3\n"
     ]
    }
   ],
   "source": [
    "def add_numbers(num1, num2=0):\n",
    "    total = num1 + num2\n",
    "    return total\n",
    "\n",
    "result = add_numbers(3)\n",
    "print(result)"
   ]
  },
  {
   "cell_type": "markdown",
   "id": "fb5b49ae",
   "metadata": {},
   "source": [
    "## 可變參數\n",
    "\n",
    "有時候，你可能需要傳遞不定數量的參數給你的函數，就像是你的魔法需要接受不定數量的材料。這時你可以使用 *args 或 **kwargs。*args 用於接受不定數量的位置參數，而 **kwargs 用於接受不定數量的關鍵字參數。\n",
    "\n",
    "```python\n",
    "def magic_spell(*ingredients):\n",
    "    for ingredient in ingredients:\n",
    "        print(\"Adding\", ingredient, \"to the cauldron!\")\n",
    "\n",
    "magic_spell(\"frog eyes\", \"bat wings\", \"spider legs\")\n",
    "```\n",
    "\n",
    "這將會輸出：\n",
    "```\n",
    "Adding frog eyes to the cauldron!\n",
    "Adding bat wings to the cauldron!\n",
    "Adding spider legs to the cauldron!\n",
    "```"
   ]
  },
  {
   "cell_type": "code",
   "execution_count": null,
   "id": "32d66f75",
   "metadata": {},
   "outputs": [],
   "source": []
  },
  {
   "cell_type": "markdown",
   "id": "e3174195",
   "metadata": {},
   "source": [
    "## 可變參數 2\n",
    "```python\n",
    "def print_info(**kwargs):\n",
    "    for key, value in kwargs.items():\n",
    "        print(f\"{key}: {value}\")\n",
    "\n",
    "# 呼叫函數，傳入不定數量的關鍵字參數\n",
    "print_info(name=\"Alice\", age=30, city=\"New York\")\n",
    "print_info(country=\"Canada\", language=\"English\", population=37650000)\n",
    "print_info(country=\"Canada\", language=\"English\", population=37650000)\n",
    "```"
   ]
  },
  {
   "cell_type": "code",
   "execution_count": null,
   "id": "bef17f71",
   "metadata": {},
   "outputs": [],
   "source": []
  },
  {
   "cell_type": "markdown",
   "id": "6a3bcbfe",
   "metadata": {},
   "source": [
    "## 遞迴介紹\n",
    "\n",
    "- 遞迴是計算機科學和數學領域中的一個重要概念，它描述了一種在問題的解決過程中反覆使用相同類型的操作或函數的方法。簡而言之，遞迴是一個函數或過程調用自身的過程，通過將問題分解為更小或相似的子問題，來實現更複雜問題的解決。\n",
    "\n",
    "- 遞迴的主要特點包括以下幾點：\n",
    "    1. 自我調用： 遞迴函數或過程在其內部代碼中包含對自身的調用，這樣它們可以反覆執行相同的操作。\n",
    "    2. 基本情況： 遞迴算法需要一個或多個基本情況，這些情況下，遞迴停止並返回結果，而不再進行更多的遞迴調用。這是遞迴的終止條件。\n",
    "    3. 問題分解： 遞迴算法通常將複雜的問題分解為更小或相似的子問題，然後通過處理這些子問題的解來構建整個問題的解。\n",
    "\n",
    "- 遞迴在解決許多問題上非常強大，特別是在那些具有自相似結構的問題上，如數學中的費波那契數列、樹狀結構的遍歷、排序算法（如快速排序和合併排序）等。然而，遞迴也需要謹慎使用，因為不當的使用可能導致無限遞迴或效率低下的問題。合理運用遞迴可以使代碼更簡潔、易讀，並且有助於解決某些複雜的計算問題。"
   ]
  },
  {
   "cell_type": "markdown",
   "id": "0febfdbb",
   "metadata": {},
   "source": [
    "$ \\text{fibonacci}(n) =\n",
    "\\begin{cases}\n",
    "0, & \\text{if } n = 0 \\text{ (第0個費波那契數為0)} \\\\\n",
    "1, & \\text{if } n = 1 \\text{ (第1個費波那契數為1)} \\\\\n",
    "\\text{fibonacci}(n-1) + \\text{fibonacci}(n-2), & \\text{if } n > 1 \\text{ (遞迴情況)}\n",
    "\\end{cases} $\n",
    "\n",
    "```python\n",
    "def factorial(n):\n",
    "    if n == 0:\n",
    "        return 1\n",
    "    else:\n",
    "        return n * factorial(n-1)\n",
    "\n",
    "result = factorial(5)\n",
    "print(result)  # 這將會印出 120\n",
    "\n",
    "```\n",
    "\n",
    "這樣，當我們呼叫 `factorial(5)` 時，它將返回 5 的階乘，即 5 * 4 * 3 * 2 * 1，結果是 120。\n"
   ]
  },
  {
   "cell_type": "code",
   "execution_count": null,
   "id": "c0fdcb6b",
   "metadata": {},
   "outputs": [],
   "source": []
  },
  {
   "cell_type": "markdown",
   "id": "49b5e531",
   "metadata": {},
   "source": [
    "## 練習\n",
    "- 次方遞迴關係式\n",
    "\n",
    "$ \\text{power}(x, n) =\n",
    "\\begin{cases}\n",
    "1, & \\text{if } n = 0 \\text{ (任何數的0次方都等於1)} \\\\\n",
    "x \\cdot \\text{power}(x, n-1), & \\text{if } n > 0 \\text{ (遞迴情況)}\n",
    "\\end{cases} $\n",
    "\n"
   ]
  },
  {
   "cell_type": "code",
   "execution_count": null,
   "id": "bec7e3ac",
   "metadata": {},
   "outputs": [],
   "source": [
    "def power(x, n):\n",
    "    \n",
    "    # 會告訴我 x 的 n 次方是多少\n",
    "    pass"
   ]
  },
  {
   "cell_type": "markdown",
   "id": "db6cde14",
   "metadata": {},
   "source": [
    "## Scope Chain\n",
    "- 當談到範圍鏈（Scope Chain）時，我們指的是在程式碼中變數的尋找和訪問方式。每當在程式中訪問變數時，程式將從當前作用域開始尋找該變數，如果在當前作用域找不到，則會繼續向外層作用域尋找，直至找到該變數或達到全域作用域。以下是更詳細的範圍鏈解釋：\n",
    "\n",
    "1. 區域作用域： 在函數內部聲明的變數，稱為區域變數。當在函數內部訪問變數時，程式首先尋找區域作用域，如果找到了變數，則使用該變數的值。\n",
    "2. 外層作用域： 如果在區域作用域找不到變數，程式將繼續向外層作用域尋找該變數。外層作用域可能是包含該函數的其他函數的作用域，或者是全域作用域。\n",
    "3. 全域作用域： 如果在外層作用域中找不到變數，程式將繼續向上尋找，最終達到全域作用域。全域作用域是程式中最外層的作用域，其中聲明的變數在程式的任何地方都可以訪問。\n",
    "- 範圍鏈的重點在於變數的尋找是從內向外進行的，並且在每個作用域中只查找一次。一旦找到變數，程式將停止尋找並使用該變數的值。如果變數在任何作用域中都找不到，則程式將引發名稱錯誤（NameError）。"
   ]
  },
  {
   "cell_type": "code",
   "execution_count": 5,
   "id": "ee1eab50",
   "metadata": {},
   "outputs": [],
   "source": [
    "x = 10  # 全域變數\n",
    "def outer_function():\n",
    "    y = 20  # 外層作用域\n",
    "    def inner_function():\n",
    "        z = 30  # 區域作用域\n",
    "        print(x)  # 在 inner_function 中找到全域變數 x\n",
    "        print(y)  # 在 inner_function 中找到外層變數 y\n",
    "        print(z)  # 在 inner_function 中找到區域變數 z\n",
    "    inner_function()\n",
    "\n",
    "# outer_function()\n",
    "# inner_function()"
   ]
  },
  {
   "cell_type": "code",
   "execution_count": null,
   "id": "104a4401",
   "metadata": {},
   "outputs": [],
   "source": [
    "# locals() globals()\n",
    "\n",
    "var1 = \"some info\"\n",
    "\n",
    "def f1():\n",
    "    var2 = 100\n",
    "    def f2():\n",
    "        var3 = 30.0\n",
    "    f2()\n",
    "    \n",
    "f1()\n",
    "# 對於 f1 來說哪些是區域變數呢？\n",
    "# 對於 f1 來說哪些是全域變數呢？\n",
    "# 對於 f2 來說哪些是區域變數呢？\n",
    "# 對於 f2 來說哪些是全域變數呢？\n"
   ]
  },
  {
   "cell_type": "code",
   "execution_count": null,
   "id": "a1a75c8d",
   "metadata": {},
   "outputs": [],
   "source": []
  }
 ],
 "metadata": {
  "kernelspec": {
   "display_name": "Python 3 (ipykernel)",
   "language": "python",
   "name": "python3"
  },
  "language_info": {
   "codemirror_mode": {
    "name": "ipython",
    "version": 3
   },
   "file_extension": ".py",
   "mimetype": "text/x-python",
   "name": "python",
   "nbconvert_exporter": "python",
   "pygments_lexer": "ipython3",
   "version": "3.10.11"
  }
 },
 "nbformat": 4,
 "nbformat_minor": 5
}
