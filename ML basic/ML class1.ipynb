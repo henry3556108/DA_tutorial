{
 "cells": [
  {
   "cell_type": "markdown",
   "id": "69aa2928",
   "metadata": {},
   "source": [
    "### 機器學習的不同領域\n",
    "\n",
    "**機器學習**是人工智慧的一個分支，涉及從資料中學習模式和規則以進行預測或決策。根據學習方式的不同，機器學習可分為以下主要領域：\n",
    "\n",
    "![img](https://www.researchgate.net/publication/354960266/figure/fig1/AS:1075175843983363@1633353305883/The-main-types-of-machine-learning-Main-approaches-include-classification-and.png)\n",
    "\n",
    "### 監督式學習（Supervised Learning）\n",
    "\n",
    "監督式學習是指使用標註過的資料（包含輸入特徵和對應的目標值）進行模型訓練，使模型能夠預測新的輸入資料的目標值。監督式學習可進一步分為以下兩種主要任務：\n",
    "\n",
    "1. **迴歸（Regression）**\n",
    "   - **定義**：預測連續值的目標變量。\n",
    "   - **應用場景**：房價預測、股票價格預測、氣溫預測等。\n",
    "   - **常見算法**：線性迴歸、支持向量回歸（SVR）、決策樹迴歸等。\n",
    "\n",
    "2. **分類（Classification）**\n",
    "   - **定義**：預測離散類別的目標變量。\n",
    "   - **應用場景**：垃圾郵件檢測、圖像識別、醫療診斷等。\n",
    "   - **常見算法**：邏輯迴歸、支持向量機（SVM）、k-近鄰（KNN）、隨機森林等。\n",
    "\n",
    "### 非監督式學習（Unsupervised Learning）\n",
    "\n",
    "非監督式學習是指使用未標註的資料進行模型訓練，模型需要自己發現資料中的模式和結構。非監督式學習可分為以下兩種主要任務：\n",
    "\n",
    "1. **聚類（Clustering）**\n",
    "   - **定義**：將資料分組，使得同一組內的資料相似度高，不同組間的資料相似度低。\n",
    "   - **應用場景**：顧客細分、市場區隔、圖像分割等。\n",
    "   - **常見算法**：k-均值聚類、層次聚類、DBSCAN 等。\n",
    "\n",
    "2. **降維（Dimensionality Reduction）**\n",
    "   - **定義**：將高維資料轉換為低維表示，同時保留盡可能多的原始資料信息。\n",
    "   - **應用場景**：資料可視化、特徵選擇、噪音消除等。\n",
    "   - **常見算法**：主成分分析（PCA）、線性判別分析（LDA）、t-SNE 等。\n",
    "\n",
    "### 其他領域\n",
    "\n",
    "除了監督式和非監督式學習，機器學習還包括以下領域：\n",
    "\n",
    "- **半監督學習（Semi-Supervised Learning）**\n",
    "    - **強化學習（Reinforcement Learning）**\n",
    "      - 定義：通過智能體與環境的交互，不斷試探行動策略以最大化累積回報。\n",
    "      - 應用場景：遊戲人工智慧、自動駕駛、機器人控制等。\n",
    "      - 常見算法：Q-learning、深度強化學習（DQN、DDPG）等。\n",
    "\n",
    "這些是機器學習的主要領域和任務，每個領域都有其特定的應用和常見算法。"
   ]
  },
  {
   "cell_type": "markdown",
   "id": "86611495",
   "metadata": {},
   "source": [
    "## terminology\n",
    "### 特徵（Feature）\n",
    "- 定義：描述資料特徵的變量或屬性。\n",
    "- 示例：在房價預測中，特徵可以是房屋面積、房間數量、地點等。\n",
    "\n",
    "### 標籤（Label）\n",
    "- 定義：模型預測的目標變量。在有監督學習中，標籤是已知的並且用來指導模型學習。\n",
    "- 示例：在房價預測中，標籤是房屋價格。\n",
    "\n",
    "### 訓練集（Training Set）\n",
    "- 定義：用來訓練機器學習模型的資料集。包含已知的特徵和標籤。\n",
    "- 目的：模型學習資料中的模式。\n",
    "\n",
    "### 測試集（Test Set）\n",
    "- 定義：用來評估機器學習模型性能的資料集。包含特徵和標籤，但模型在訓練過程中未見過這些資料。\n",
    "- 目的：檢驗模型的泛化能力，即模型對新資料的預測性能。"
   ]
  },
  {
   "cell_type": "code",
   "execution_count": null,
   "id": "22f9fe52",
   "metadata": {},
   "outputs": [],
   "source": []
  }
 ],
 "metadata": {
  "kernelspec": {
   "display_name": "Python 3 (ipykernel)",
   "language": "python",
   "name": "python3"
  },
  "language_info": {
   "codemirror_mode": {
    "name": "ipython",
    "version": 3
   },
   "file_extension": ".py",
   "mimetype": "text/x-python",
   "name": "python",
   "nbconvert_exporter": "python",
   "pygments_lexer": "ipython3",
   "version": "3.12.4"
  }
 },
 "nbformat": 4,
 "nbformat_minor": 5
}
