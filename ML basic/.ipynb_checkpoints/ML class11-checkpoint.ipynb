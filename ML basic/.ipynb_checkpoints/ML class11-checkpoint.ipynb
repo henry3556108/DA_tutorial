{
 "cells": [
  {
   "cell_type": "code",
   "execution_count": null,
   "id": "8652af88-27c2-4db0-b905-be9ec22adbda",
   "metadata": {},
   "outputs": [],
   "source": [
    "如何建立一個多元分類 NN 網路\n",
    "手繪製該 NN 網路的樣子\n",
    "設定 Optimizer\n",
    "訓練 預測\n",
    "儲存 讀取"
   ]
  },
  {
   "cell_type": "code",
   "execution_count": null,
   "id": "fbf05c02-6b5e-4b30-ad17-41f9537448af",
   "metadata": {},
   "outputs": [],
   "source": [
    "如何建立一個回歸 NN 網路\n",
    "手繪製該 NN 網路的樣子\n",
    "設定 Optimizer\n",
    "訓練 預測\n",
    "儲存 讀取"
   ]
  }
 ],
 "metadata": {
  "kernelspec": {
   "display_name": "Python 3 (ipykernel)",
   "language": "python",
   "name": "python3"
  },
  "language_info": {
   "codemirror_mode": {
    "name": "ipython",
    "version": 3
   },
   "file_extension": ".py",
   "mimetype": "text/x-python",
   "name": "python",
   "nbconvert_exporter": "python",
   "pygments_lexer": "ipython3",
   "version": "3.12.4"
  }
 },
 "nbformat": 4,
 "nbformat_minor": 5
}
