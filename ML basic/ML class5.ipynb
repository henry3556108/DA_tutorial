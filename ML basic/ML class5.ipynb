{
 "cells": [
  {
   "cell_type": "markdown",
   "id": "7f7641a0",
   "metadata": {},
   "source": [
    "# 資料預處理\n",
    "\n",
    "資料預處理是資料分析和機器學習的重要步驟。其目的是將原始資料轉換為適合模型分析和學習的格式。資料預處理通常需要做以下幾件事情：\n",
    "\n",
    "1. **資料清理**\n",
    "\n",
    "   資料清理是指去除資料中的錯誤、不一致和缺失值。常見的資料清理方法包括：\n",
    "\n",
    "   - 檢查資料的格式和類型\n",
    "   - 處理異常值\n",
    "   - 處理缺失值\n",
    "   - 統一資料的格式和類型\n",
    "\n",
    "2. **資料整合**\n",
    "\n",
    "   資料整合是指將來自不同來源的資料合併在一起。常見的資料整合方法包括：\n",
    "\n",
    "   - 匹配資料的欄位\n",
    "   - 合併資料的表\n",
    "   - 處理資料的衝突\n",
    "\n",
    "3. **資料轉換**\n",
    "\n",
    "   資料轉換是指將資料轉換為適合模型分析和學習的格式。常見的資料轉換方法包括：\n",
    "\n",
    "   - 特徵縮放\n",
    "   - 特徵編碼\n",
    "   - 特徵選擇\n"
   ]
  },
  {
   "cell_type": "markdown",
   "id": "45661d2f",
   "metadata": {},
   "source": [
    "## 檢查資料的格式和類型"
   ]
  },
  {
   "cell_type": "code",
   "execution_count": 1,
   "id": "ce431829",
   "metadata": {},
   "outputs": [
    {
     "name": "stdout",
     "output_type": "stream",
     "text": [
      "<class 'pandas.core.frame.DataFrame'>\n",
      "RangeIndex: 3 entries, 0 to 2\n",
      "Data columns (total 3 columns):\n",
      " #   Column  Non-Null Count  Dtype  \n",
      "---  ------  --------------  -----  \n",
      " 0   a       3 non-null      int64  \n",
      " 1   b       3 non-null      float64\n",
      " 2   c       3 non-null      object \n",
      "dtypes: float64(1), int64(1), object(1)\n",
      "memory usage: 200.0+ bytes\n",
      "None\n"
     ]
    }
   ],
   "source": [
    "import pandas as pd\n",
    "\n",
    "df = pd.DataFrame({'a': [1, 2, 3], 'b': [4.5, 6.7, 8.9], 'c': ['Hello', 'world', '!']})\n",
    "\n",
    "print(df.dtypes)"
   ]
  },
  {
   "cell_type": "code",
   "execution_count": 4,
   "id": "797ad83d",
   "metadata": {},
   "outputs": [],
   "source": [
    "# df.info()\n",
    "# df.describe()"
   ]
  },
  {
   "cell_type": "markdown",
   "id": "8942db10",
   "metadata": {},
   "source": [
    "## 異常值 outlier\n",
    "1. 如何判定異常值\n",
    "2. 如何處理異常值或者空值"
   ]
  },
  {
   "cell_type": "markdown",
   "id": "0bf7d5a3",
   "metadata": {},
   "source": [
    "### 方法1  標準差：\n",
    "- 在統計學中，如果一個數據分佈近似正態分佈，那麼大約68%的數據值在平均值的一個標準差內，約95%在兩個標準差內，約99.7%在三個標準差內。"
   ]
  },
  {
   "cell_type": "code",
   "execution_count": 37,
   "id": "1d01de44",
   "metadata": {},
   "outputs": [
    {
     "name": "stdout",
     "output_type": "stream",
     "text": [
      "16 SepalWidthCm\n",
      "SepalWidthCm 異常值：4.4\n"
     ]
    }
   ],
   "source": [
    "import pandas as pd\n",
    "\n",
    "iris = pd.read_csv('dataset/iris.csv', index_col = 0)\n",
    "features = iris.iloc[:,:-1]\n",
    "\n",
    "# features\n",
    "# # 計算每個特徵的平均值和標準差\n",
    "means = features.mean()\n",
    "stds = features.std()\n",
    "# 判定異常值\n",
    "for i in features.index:\n",
    "    for col in features.columns:\n",
    "#         print(features.loc[i, col], means[col], stds[col])\n",
    "        if abs(features.loc[i, col] - means[col]) > (3 * stds[col]):\n",
    "            print(i, col)\n",
    "            print(f'{col} 異常值：{iris.loc[i, col]}')\n",
    "\n",
    "# # print(features)\n",
    "# # for i in features.index:\n",
    "# #     for col in features.columns:\n",
    "# #         features = features[(features.loc[:, col] - means[col]).abs() < (3 * stds[col])]\n",
    "\n",
    "# # print(features)"
   ]
  },
  {
   "cell_type": "markdown",
   "id": "c6c1af77",
   "metadata": {},
   "source": [
    "## 盒鬚圖\n",
    "![](https://media.finebi.com/strapi/_06b36597d6.png)\n",
    "- [盒鬚圖怎麼看](https://intl.finebi.com/zh-TW/blog/boxplot)"
   ]
  },
  {
   "cell_type": "code",
   "execution_count": 42,
   "id": "42592048",
   "metadata": {},
   "outputs": [
    {
     "name": "stdout",
     "output_type": "stream",
     "text": [
      "index:16, column:SepalWidthCm 異常值：4.4\n",
      "index:33, column:SepalWidthCm 異常值：4.1\n",
      "index:34, column:SepalWidthCm 異常值：4.2\n",
      "index:61, column:SepalWidthCm 異常值：2.0\n"
     ]
    }
   ],
   "source": [
    "import pandas as pd\n",
    "\n",
    "iris = pd.read_csv('dataset/iris.csv', index_col = 0)\n",
    "iris = iris.iloc[:,:-1]\n",
    "\n",
    "# 計算每個特徵的四分位數\n",
    "q1 = iris.quantile(0.25)\n",
    "q3 = iris.quantile(0.75)\n",
    "\n",
    "# 判定異常值\n",
    "for i in iris.index:\n",
    "    for col in iris.columns:\n",
    "        IQR = q3[col] - q1[col]\n",
    "        if iris.loc[i, col] < q1[col] - 1.5 * IQR or iris.loc[i, col] > q3[col] + 1.5 * IQR:\n",
    "            print(f'index:{i}, column:{col} 異常值：{iris.loc[i, col]}')\n"
   ]
  },
  {
   "cell_type": "markdown",
   "id": "e6695941",
   "metadata": {},
   "source": [
    "## DBSCAN 判定異常值的方法\n",
    "\n",
    "- DBSCAN 判定異常值的方法是基於密度聚類來判定異常值。DBSCAN 會根據資料點之間的距離將資料點聚類在一起。密度較低的區域通常被認為是異常值。\n",
    "\n"
   ]
  },
  {
   "cell_type": "code",
   "execution_count": 3,
   "id": "7d4c2689",
   "metadata": {},
   "outputs": [
    {
     "name": "stdout",
     "output_type": "stream",
     "text": [
      "index:57,異常值：Id               58.0\n",
      "SepalLengthCm     4.9\n",
      "SepalWidthCm      2.4\n",
      "PetalLengthCm     3.3\n",
      "PetalWidthCm      1.0\n",
      "Name: 57, dtype: float64\n",
      "index:106,異常值：Id               107.0\n",
      "SepalLengthCm      4.9\n",
      "SepalWidthCm       2.5\n",
      "PetalLengthCm      4.5\n",
      "PetalWidthCm       1.7\n",
      "Name: 106, dtype: float64\n",
      "index:122,異常值：Id               123.0\n",
      "SepalLengthCm      7.7\n",
      "SepalWidthCm       2.8\n",
      "PetalLengthCm      6.7\n",
      "PetalWidthCm       2.0\n",
      "Name: 122, dtype: float64\n"
     ]
    }
   ],
   "source": [
    "import pandas as pd\n",
    "from sklearn.cluster import DBSCAN\n",
    "\n",
    "iris = pd.read_csv('dataset/iris.csv')\n",
    "iris = iris.iloc[:,:-1]\n",
    "# 訓練 DBSCAN 模型\n",
    "dbscan = DBSCAN(eps=2, min_samples=2)\n",
    "labels = dbscan.fit_predict(iris)\n",
    "\n",
    "# 判定異常值\n",
    "for i in range(iris.shape[0]):\n",
    "    if labels[i] == -1:\n",
    "        print(f'index:{i},異常值：{iris.loc[i, :]}')\n"
   ]
  },
  {
   "cell_type": "markdown",
   "id": "cb948b93",
   "metadata": {},
   "source": [
    "## 異常值解釋\n",
    "異常值（Outliers）是指在數據集中偏離大多數觀察值的一個或多個數據點。這些數據點通常與數據集中的其餘部分顯著不同，可能源於測量誤差、數據輸入錯誤、或**真實的異常情況**。異常值的存在可能會對統計分析和機器學習模型的性能產生重大影響，因為它們可以扭曲結果，使得模型對整體數據的解釋能力降低。因此，識別和處理異常值是資料分析中的一個關鍵步驟。\n",
    "\n",
    "## 異常值處理方法\n",
    "\n",
    "**刪除異常值**\n",
    "\n",
    "刪除異常值是最簡單的處理異常值的方法。但是，這種方法可能會導致資料量的減少，從而影響資料分析結果的準確性。\n",
    "\n",
    "**將異常值替換為平均值或中位數**\n",
    "\n",
    "這種方法是使用統計方法來估算異常值。平均值是將所有非異常值的平均值用於替換異常值。中位數是將所有非異常值的眾數用於替換異常值。\n",
    "\n",
    "- [延伸閱讀](https://allaboutdataanalysis.medium.com/%E6%AF%8F%E5%80%8B%E8%B3%87%E6%96%99%E7%A7%91%E5%AD%B8%E5%AE%B6%E6%87%89%E8%A9%B2%E7%9F%A5%E9%81%93%E7%9A%84%E4%BA%94%E7%A8%AE%E6%AA%A2%E6%B8%AC%E7%95%B0%E5%B8%B8%E5%80%BC%E7%9A%84%E6%96%B9%E6%B3%95-%E9%99%84python%E7%A8%8B%E5%BC%8F%E7%A2%BC-b9d790d16bf5)"
   ]
  },
  {
   "cell_type": "code",
   "execution_count": null,
   "id": "bb8252a5",
   "metadata": {},
   "outputs": [],
   "source": []
  }
 ],
 "metadata": {
  "kernelspec": {
   "display_name": "Python 3 (ipykernel)",
   "language": "python",
   "name": "python3"
  },
  "language_info": {
   "codemirror_mode": {
    "name": "ipython",
    "version": 3
   },
   "file_extension": ".py",
   "mimetype": "text/x-python",
   "name": "python",
   "nbconvert_exporter": "python",
   "pygments_lexer": "ipython3",
   "version": "3.12.4"
  }
 },
 "nbformat": 4,
 "nbformat_minor": 5
}
