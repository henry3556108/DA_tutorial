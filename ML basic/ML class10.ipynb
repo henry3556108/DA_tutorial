{
 "cells": [
  {
   "cell_type": "markdown",
   "id": "0879289c-6882-4200-a3da-10afa13263eb",
   "metadata": {},
   "source": [
    "!pip3 install numpy tensorflow"
   ]
  },
  {
   "cell_type": "markdown",
   "id": "c67ca961-3b93-4245-83a1-38dcfbeccc58",
   "metadata": {},
   "source": [
    "## 準備資料"
   ]
  },
  {
   "cell_type": "code",
   "execution_count": 1,
   "id": "a9e440d2-cffa-45d0-9f35-9d8fb421c01f",
   "metadata": {},
   "outputs": [],
   "source": [
    "import pandas as pd\n",
    "from sklearn.model_selection import train_test_split\n",
    "from sklearn.preprocessing import StandardScaler\n",
    "\n",
    "df = pd.read_csv(\"dataset/housing.csv\")\n",
    "X = df.drop(\"MEDV\", axis=1)\n",
    "y = df[[\"MEDV\"]]\n",
    "\n",
    "scaler = StandardScaler()\n",
    "y = scaler.fit_transform(y)\n",
    "\n",
    "# 分割數據為訓練集和測試集\n",
    "X_train, X_test, y_train, y_test = train_test_split(X, y, test_size=0.3, random_state=0)"
   ]
  },
  {
   "cell_type": "markdown",
   "id": "722eeaac-d17a-4fbb-9692-b93ba915a34d",
   "metadata": {},
   "source": [
    "## 建構模型"
   ]
  },
  {
   "cell_type": "code",
   "execution_count": 6,
   "id": "384b7374-1336-4300-bd50-43e6127ee8cb",
   "metadata": {},
   "outputs": [],
   "source": [
    "import tensorflow as tf\n",
    "\n",
    "model = tf.keras.models.Sequential([\n",
    "  tf.keras.layers.Dense(64, activation='sigmoid', input_dim=3),\n",
    "  tf.keras.layers.Dense(64, activation='sigmoid'),\n",
    "  tf.keras.layers.Dense(64, activation='sigmoid'),\n",
    "  tf.keras.layers.Dense(64, activation='sigmoid'),\n",
    "  tf.keras.layers.Dense(64, activation='sigmoid'),\n",
    "  tf.keras.layers.Dense(1)\n",
    "])\n"
   ]
  },
  {
   "cell_type": "markdown",
   "id": "486122ea-ed32-4f66-9a8b-7b09d61a3b8e",
   "metadata": {},
   "source": [
    "## 設置 Optimizer\n",
    "\n",
    "- [tensorflow Optimizer](https://www.tensorflow.org/api_docs/python/tf/keras/optimizers)"
   ]
  },
  {
   "cell_type": "code",
   "execution_count": 7,
   "id": "82468d80-3703-4fa3-99e0-78db70759c21",
   "metadata": {},
   "outputs": [],
   "source": [
    "optimizer = tf.keras.optimizers.legacy.Adam()\n",
    "model.compile(optimizer=optimizer, loss='mse')\n"
   ]
  },
  {
   "cell_type": "markdown",
   "id": "5bfdae65-f676-422e-b493-2943e763d236",
   "metadata": {},
   "source": [
    "## 訓練及預測"
   ]
  },
  {
   "cell_type": "code",
   "execution_count": 8,
   "id": "df253500-a360-4bc7-b48f-54efac0e4104",
   "metadata": {},
   "outputs": [
    {
     "name": "stdout",
     "output_type": "stream",
     "text": [
      "Epoch 1/20\n",
      "11/11 [==============================] - 0s 898us/step - loss: 0.9993\n",
      "Epoch 2/20\n",
      "11/11 [==============================] - 0s 915us/step - loss: 0.9768\n",
      "Epoch 3/20\n",
      "11/11 [==============================] - 0s 784us/step - loss: 0.9715\n",
      "Epoch 4/20\n",
      "11/11 [==============================] - 0s 961us/step - loss: 0.9637\n",
      "Epoch 5/20\n",
      "11/11 [==============================] - 0s 849us/step - loss: 0.9522\n",
      "Epoch 6/20\n",
      "11/11 [==============================] - 0s 901us/step - loss: 0.9281\n",
      "Epoch 7/20\n",
      "11/11 [==============================] - 0s 927us/step - loss: 0.8821\n",
      "Epoch 8/20\n",
      "11/11 [==============================] - 0s 882us/step - loss: 0.7810\n",
      "Epoch 9/20\n",
      "11/11 [==============================] - 0s 978us/step - loss: 0.6122\n",
      "Epoch 10/20\n",
      "11/11 [==============================] - 0s 1ms/step - loss: 0.4447\n",
      "Epoch 11/20\n",
      "11/11 [==============================] - 0s 986us/step - loss: 0.3862\n",
      "Epoch 12/20\n",
      "11/11 [==============================] - 0s 940us/step - loss: 0.3790\n",
      "Epoch 13/20\n",
      "11/11 [==============================] - 0s 1ms/step - loss: 0.3653\n",
      "Epoch 14/20\n",
      "11/11 [==============================] - 0s 920us/step - loss: 0.3497\n",
      "Epoch 15/20\n",
      "11/11 [==============================] - 0s 4ms/step - loss: 0.3426\n",
      "Epoch 16/20\n",
      "11/11 [==============================] - 0s 9ms/step - loss: 0.3332\n",
      "Epoch 17/20\n",
      "11/11 [==============================] - 0s 2ms/step - loss: 0.3184\n",
      "Epoch 18/20\n",
      "11/11 [==============================] - 0s 1ms/step - loss: 0.3058\n",
      "Epoch 19/20\n",
      "11/11 [==============================] - 0s 894us/step - loss: 0.2980\n",
      "Epoch 20/20\n",
      "11/11 [==============================] - 0s 992us/step - loss: 0.2946\n",
      "5/5 [==============================] - 0s 690us/step\n"
     ]
    }
   ],
   "source": [
    "# 假設 X_train 和 y_train 是您的訓練數據和標籤\n",
    "model.fit(X_train, y_train, epochs=20)\n",
    "\n",
    "# 進行預測\n",
    "predictions = model.predict(X_test)"
   ]
  },
  {
   "cell_type": "code",
   "execution_count": 9,
   "id": "2080e455-a962-4552-9b6c-21d77c8dfed7",
   "metadata": {},
   "outputs": [
    {
     "data": {
      "text/plain": [
       "(array([[440487.62],\n",
       "        [631566.44],\n",
       "        [297969.03],\n",
       "        [309587.1 ],\n",
       "        [483270.16]], dtype=float32),\n",
       " array([[417900.],\n",
       "        [632100.],\n",
       "        [281400.],\n",
       "        [577500.],\n",
       "        [474600.]]))"
      ]
     },
     "execution_count": 9,
     "metadata": {},
     "output_type": "execute_result"
    }
   ],
   "source": [
    "scaler.inverse_transform(predictions[:5]), scaler.inverse_transform(y_test[:5])"
   ]
  },
  {
   "cell_type": "markdown",
   "id": "8c218bb0-6557-460e-852f-07c861a1863a",
   "metadata": {},
   "source": [
    "## 嘗試使用自己的資料集來玩玩"
   ]
  },
  {
   "cell_type": "code",
   "execution_count": null,
   "id": "8cd4bcaa-f138-4901-ba0d-c12e1baa5121",
   "metadata": {},
   "outputs": [],
   "source": []
  }
 ],
 "metadata": {
  "kernelspec": {
   "display_name": "Python 3 (ipykernel)",
   "language": "python",
   "name": "python3"
  },
  "language_info": {
   "codemirror_mode": {
    "name": "ipython",
    "version": 3
   },
   "file_extension": ".py",
   "mimetype": "text/x-python",
   "name": "python",
   "nbconvert_exporter": "python",
   "pygments_lexer": "ipython3",
   "version": "3.8.10"
  }
 },
 "nbformat": 4,
 "nbformat_minor": 5
}
